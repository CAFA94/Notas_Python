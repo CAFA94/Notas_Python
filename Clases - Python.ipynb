{
 "cells": [
  {
   "cell_type": "markdown",
   "metadata": {},
   "source": [
    " # Clases CitiBanamex- Python\n",
    " \n",
    " <br>\n",
    " <img src=\"https://upload.wikimedia.org/wikipedia/commons/1/1d/Citibank.svg\"> \n",
    " <br>\n",
    " \n",
    " ### Fernanda Mora\n",
    " \n",
    " #### Octubre, 2018\n",
    " "
   ]
  },
  {
   "cell_type": "markdown",
   "metadata": {},
   "source": [
    "## Contenido\n",
    "\n",
    "- Introducción y herramientas\n",
    "- Utilidades y tipos de datos\n",
    "- Numpy\n",
    "- Basics de Análisis de Datos\n",
    "- Visualización\n",
    "- Estructuras de control\n",
    "- Funciones\n",
    "- DataFrames\n",
    "- Ejercicio para entregar (1era parte)\n",
    "- Referencias"
   ]
  },
  {
   "cell_type": "markdown",
   "metadata": {},
   "source": [
    "# Introducción y herramientas\n",
    "\n",
    "## ¿Qué es Python?\n",
    "- Desarrollado por Guido Van Rossum\n",
    "- De propósito general: puedes construir lo que quieras\n",
    "- Open source, es decir, es *gratis*\n",
    "- Lenguaje orientado a objetos: todo es un objeto\n",
    "- Es fácil hacer paquetes para Python, también para Ciencia de Datos\n",
    "- Vamos a ver Python enfocado a Ciencia de Datos\n",
    "    - Cómo guardar datos\n",
    "    - Cómo limpiar datos\n",
    "    - Cómo manipular datos\n",
    "    - Herramientas para análisis\n",
    "- Hay muchas versiones de Python, vamos a trabajar con la 3.7\n",
    "    - Solamente si van a trabajar con [Theano](http://deeplearning.net/software/theano/) recomienda la 2.7\n",
    "\n",
    "\n",
    "## ¿Cómo vamos a trabajar?\n",
    "- Bajar [Anaconda](https://www.anaconda.com/)\n",
    "- Bajar [Jupyter](http://jupyter.org/)\n",
    "- Bajar [Spyder](https://www.spyder-ide.org/)\n",
    "- Shell de Python:\n",
    "    - Es como la consola de R\n",
    "    - Permite escribir código para experimentar\n",
    "- Scripts:\n",
    "    - Son archivos de texto reproducibles, tienen la extensión *.py*\n",
    "    - Contienen una serie de comandos en Python\n",
    "    - Similares a escribir en el shell de IPython\n",
    "- Jupyter Notebook\n",
    "    - Es un cuaderno que nos permite combinar tanto texto como código\n",
    "    - El texto está escrito con formato Markdown igual que RMarkdown :)\n",
    "- Spyder\n",
    "    - Muy parecido a RStudio pero para Python\n",
    "    - Es uno de los IDES más populares\n",
    "\n",
    "### ¿Qué es Anaconda?\n",
    "\n",
    "- Es una distribución de Python y de R, la más famosa para Ciencia de Datos\n",
    "- 6 millones de usuarios que hacen ciencia de datos\n",
    "- Estándar de la industria para desarrollar, probar y entrenar modelos en una sola máquina\n",
    "- Permite la colaboración de muchos usuarios en tiempo real\n",
    "- Permite crear ambientes con versiones específicas de Python y paquetes instalados: ENCAPSULAMIENTO\n",
    "- Esto es un súper plus en Python porque tenemos muchas versiones diferentes que son compatibles con algunos paquetes pero no con otros\n",
    "- Es fácil crear una seria de paquetes y versiones que sean distribuibles, i.e. que pueda compartir con otros usuarios, incluyendo todas sus dependencias\n",
    "- Cuando instalamos Anaconda, podemos crear un ambiente y ponerle la versión de Python que queramos\n",
    "- Anaconda ya tiene precargados el NoteBook de Jupyer y otros paquetes para ciencia de datos\n",
    "\n",
    "#### Cómo usamos Anaconda\n",
    "\n",
    "- Creación de [ambientes](https://conda.io/docs/user-guide/tasks/manage-environments.html#activate-env)\n",
    "\n",
    "1. Para crear un ambiente de cierta versión de Python:\n",
    "\n",
    "`conda create -n myenv python=3.4`\n",
    "\n",
    "2. Para instalar un paquete\n",
    "\n",
    "`conda install -n myenv scipy`\n",
    ".\n",
    "    - Si queremos una versión específica del paquete: \n",
    "    \n",
    "  `conda install -n myenv scipy=0.15.0`\n",
    "     \n",
    "3. Si queremos instalar de una vez Python con ciertos paquetes\n",
    "\n",
    "`conda create -n myenv python=3.4 scipy=0.15.0 astroid babel`\n",
    "\n",
    "4. Si queremos clonar un ambiente:\n",
    "\n",
    "`conda create --name myclone --clone myenv`\n",
    "\n",
    "5. Para activar un ambiente\n",
    "\n",
    "    - Windows: `activate myenv`\n",
    "    - macOS y Linux: `source activate myenv`\n",
    "    \n",
    "6. Desactivar un ambiente:\n",
    "\n",
    "    - Windows: `deactivate`\n",
    "    - macOS y Linux: `source deactivate`\n",
    "\n",
    "7. Para ver listado de ambientes\n",
    "\n",
    "`conda info --envs`\n",
    "\n",
    "8. Para saber qué ambiente está corriendo, me fijo en el que tiene el asterisco\n",
    "\n",
    "`conda info --envs`\n",
    "\n",
    "9. Para saber qué paquetes tiene instalados un ambiente\n",
    "\n",
    "`conda list -n myenv`\n",
    "\n",
    "10. Para saber qué paquetes tiene instalados mi ambiente corriendo\n",
    "\n",
    "`conda list`\n",
    "\n",
    "11. Para usar el comando `pip` (para instalar paquetes en Python), usamos:\n",
    "\n",
    "`conda install -n myenv pip\n",
    "source activate myenv\n",
    "pip <pip_subcommand>`\n",
    "\n",
    "12. Para eliminar un ambiente\n",
    "\n",
    "`conda remove --name myenv --all`\n",
    "\n",
    "> **EJERCICIO.** Crear un ambiente con Python 3.7 en Anaconda, instálale el paquete `pip` y finalmente actívalo. Cerciórate que ese nuevo ambiente está instalado.\n",
    "\n",
    "\n",
    "### ¿Qué es el Notebook de Jupyter?\n",
    "\n",
    "- [Jupyter Notebook](http://jupyter.org/) es una aplicación web libre que permite crear y compartir documentos con texto,código, ecuaciones, visualizaciones\n",
    "- Se usa principalmente para hacer ciencia de datos (limpieza, transformación, modelado estadístico, machine learning, simulación, visualización)\n",
    "- Puedes embeber código, gráficos, urls, videos y texto usando como sintaxis markdown\n",
    "- Se puede usar con:\n",
    "    - Python\n",
    "    - Julia\n",
    "    - R\n",
    "    - C++\n",
    "    - Scala\n",
    "- Features:\n",
    "    - Trabaja con varios lenguajes\n",
    "    - Puedes compartir los notebooks por email, Dropbox, GitHub y el Jupyter Notebook Viewer\n",
    "    - Output interactivo: HTML, images, videos, LaTeX\n",
    "    - Integración con herramientas de Big Data de Apache Spark desde Python (Pyspark, la API de Python para Spark),  R  (Sparklyr) y Scala. Es decir, se puede explorar lo mismo con pandas, scikit-learn, ggplot2, Tensorflow\n",
    "    - Se puede exportar en muchos formatos:\n",
    "            - html\n",
    "            - .ipynb (notebook)\n",
    "            - pdf\n",
    "            - LaTex\n",
    "    \n",
    "\n",
    "\n",
    "#### ¿Cómo instalamos Jupyter?\n",
    "\n",
    "Para tener *Jupyter*, necesitamos tener Python>=3.3 o Python 2.7\n",
    "\n",
    "2 maneras:\n",
    "\n",
    "- Usando *Anaconda*, que ya trae Python y Jupyter \n",
    "- Usando `pip`python3 -m pip install --upgrade pip. `pip` es el manejador de paquetes de Python, con ese comando instalaremos los paquetes.\n",
    "\n",
    "`python3 -m pip install jupyter`\n",
    "\n",
    "\n",
    "#### ¿Cómo abrimos un notebook de Jupyter?\n",
    "\n",
    "- Simplemente creamos nuestro ambiente de Python en Anaconda, y escribimos `jupyter notebook`. Se nos abrirá un *Jupyter* con \n",
    "\n",
    "- Si no instalamos *Anaconda*, entonces simplemente ponemos `jupyter notebook` en la terminal\n",
    "\n",
    "- ¿Cómo comparto mi notebook de Python?\n",
    "\n",
    "#### ¿Cómo corremos los chunks de código en un notebook de Jupyer?\n",
    "\n",
    "- Una caja de texto o código se corre de varias maneras:\n",
    "- Individualmente pulsando el botón *Run* o `Shift+Enter`\n",
    "- Individualmente en el menú *Cell*\n",
    "- Todas con el menú `Cell` con la opción *Rull all*\n",
    "- Opciones customizables usando el menú *Cell*\n",
    "\n",
    "#### ¿Cómo compartimos nuestro notebook de Jupyter?\n",
    "\n",
    "1. Hostear tu notebook de Python en un repo de Github. Esto tiene la ventaja de que está montado en la red.\n",
    "    - Ir [NBViewer](http://nbviewer.ipython.org/) y pegar el URL de Github\n",
    "ó\n",
    "\n",
    "2. Email ó\n",
    "\n",
    "3. Dropbox\n",
    "\n",
    "4. Al parecer aún no se puede hostear en Bitbucket. Se supone que esto es una aplicación para hacerlo: [aplicación](https://bitbucket.org/bitbucket/bitbucket-nbviewer/src/master/)\n",
    "\n",
    ">**EJERCICIO.** Dentro de tu ambiente de Python que creaste, abre un notebook de Jupyter, escribe tu nombre y expórtalo como Notebook .ipynb. Observa que también puedes ver tus proyectos de R en el mismo notebook de Jupyter pero observa también que todo esto está en ambiente local.\n",
    "\n",
    ">**EJERCICIO.** Hostea tu Notebook en [NBViewer](http://nbviewer.ipython.org/). Hint: Debes abrir una [cuenta en Github](https://reproducible-science-curriculum.github.io/sharing-RR-Jupyter/01-sharing-github/). Posteriormente sigue estas [instrucciones](https://reproducible-science-curriculum.github.io/sharing-RR-Jupyter/01-sharing-github/)\n",
    "\n",
    "### ¿Qué es Spyder?\n",
    "- [Spyder](https://www.spyder-ide.org/) es un IDE (Integrated Development Environment) escrito para trabajar con Python\n",
    "- Está orientado al cómputo científico\n",
    "- Es muy parecido a RStudio, así que será sencillo usarlo\n",
    "- Viene con un editor para escribir código, una consola para evaluar y ver resultados\n",
    "- También viene con una vista de variables para ver las que se han usado\n",
    "- Otra opción de editor es [Pycharm](https://www.jetbrains.com/pycharm/), sin embargo esta IDE es mucho más compleja y está más orientada a Desarrolladores\n",
    "\n",
    "> **EJERCICIO**. Abre Spyder desde la consola, crea un archivo que imprima tu nombre: `print(\"My nombre es ...\")` y córrelo en la consola.\n",
    "\n",
    "\n",
    "### Resumen\n",
    "\n",
    "![](software_python.png)"
   ]
  },
  {
   "cell_type": "markdown",
   "metadata": {},
   "source": [
    "## Utilidades y tipos de datos \n",
    "\n",
    "### Preliminares\n",
    "- Comentarios se escriben con `#`\n",
    "- Python puede usarse como calculadora:\n",
    "    - Exponenciación: 2**4\n",
    "    - Módulo: `5%2`\n",
    "- Declaración de variables se hacen con `=`\n",
    "- Ayuda se pide con `help()`. Tres tipos de *ayuda*:\n",
    "    1. Pasándole el nombre de un objeto: `help(print)`, `help(list)`\n",
    "    2. Pasándole el nombre de un string (método, función, clase, keyword): `help('def')`\n",
    "    3. Abriendo una consola interactiva de ayuda de Python: `help()`\n",
    "    4. Revisando directamente la documentación de [*Scypy*](https://www.scipy.org/docs.html)\n",
    "    \n",
    "- Ver en qué versión de Python estás trabajando: `sys.version_info`. Verifica que es la 3.7"
   ]
  },
  {
   "cell_type": "code",
   "execution_count": 1067,
   "metadata": {},
   "outputs": [
    {
     "name": "stdout",
     "output_type": "stream",
     "text": [
      "Help on list object:\n",
      "\n",
      "class list(object)\n",
      " |  list(iterable=(), /)\n",
      " |  \n",
      " |  Built-in mutable sequence.\n",
      " |  \n",
      " |  If no argument is given, the constructor creates a new empty list.\n",
      " |  The argument must be an iterable if specified.\n",
      " |  \n",
      " |  Methods defined here:\n",
      " |  \n",
      " |  __add__(self, value, /)\n",
      " |      Return self+value.\n",
      " |  \n",
      " |  __contains__(self, key, /)\n",
      " |      Return key in self.\n",
      " |  \n",
      " |  __delitem__(self, key, /)\n",
      " |      Delete self[key].\n",
      " |  \n",
      " |  __eq__(self, value, /)\n",
      " |      Return self==value.\n",
      " |  \n",
      " |  __ge__(self, value, /)\n",
      " |      Return self>=value.\n",
      " |  \n",
      " |  __getattribute__(self, name, /)\n",
      " |      Return getattr(self, name).\n",
      " |  \n",
      " |  __getitem__(...)\n",
      " |      x.__getitem__(y) <==> x[y]\n",
      " |  \n",
      " |  __gt__(self, value, /)\n",
      " |      Return self>value.\n",
      " |  \n",
      " |  __iadd__(self, value, /)\n",
      " |      Implement self+=value.\n",
      " |  \n",
      " |  __imul__(self, value, /)\n",
      " |      Implement self*=value.\n",
      " |  \n",
      " |  __init__(self, /, *args, **kwargs)\n",
      " |      Initialize self.  See help(type(self)) for accurate signature.\n",
      " |  \n",
      " |  __iter__(self, /)\n",
      " |      Implement iter(self).\n",
      " |  \n",
      " |  __le__(self, value, /)\n",
      " |      Return self<=value.\n",
      " |  \n",
      " |  __len__(self, /)\n",
      " |      Return len(self).\n",
      " |  \n",
      " |  __lt__(self, value, /)\n",
      " |      Return self<value.\n",
      " |  \n",
      " |  __mul__(self, value, /)\n",
      " |      Return self*value.\n",
      " |  \n",
      " |  __ne__(self, value, /)\n",
      " |      Return self!=value.\n",
      " |  \n",
      " |  __repr__(self, /)\n",
      " |      Return repr(self).\n",
      " |  \n",
      " |  __reversed__(self, /)\n",
      " |      Return a reverse iterator over the list.\n",
      " |  \n",
      " |  __rmul__(self, value, /)\n",
      " |      Return value*self.\n",
      " |  \n",
      " |  __setitem__(self, key, value, /)\n",
      " |      Set self[key] to value.\n",
      " |  \n",
      " |  __sizeof__(self, /)\n",
      " |      Return the size of the list in memory, in bytes.\n",
      " |  \n",
      " |  append(self, object, /)\n",
      " |      Append object to the end of the list.\n",
      " |  \n",
      " |  clear(self, /)\n",
      " |      Remove all items from list.\n",
      " |  \n",
      " |  copy(self, /)\n",
      " |      Return a shallow copy of the list.\n",
      " |  \n",
      " |  count(self, value, /)\n",
      " |      Return number of occurrences of value.\n",
      " |  \n",
      " |  extend(self, iterable, /)\n",
      " |      Extend list by appending elements from the iterable.\n",
      " |  \n",
      " |  index(self, value, start=0, stop=9223372036854775807, /)\n",
      " |      Return first index of value.\n",
      " |      \n",
      " |      Raises ValueError if the value is not present.\n",
      " |  \n",
      " |  insert(self, index, object, /)\n",
      " |      Insert object before index.\n",
      " |  \n",
      " |  pop(self, index=-1, /)\n",
      " |      Remove and return item at index (default last).\n",
      " |      \n",
      " |      Raises IndexError if list is empty or index is out of range.\n",
      " |  \n",
      " |  remove(self, value, /)\n",
      " |      Remove first occurrence of value.\n",
      " |      \n",
      " |      Raises ValueError if the value is not present.\n",
      " |  \n",
      " |  reverse(self, /)\n",
      " |      Reverse *IN PLACE*.\n",
      " |  \n",
      " |  sort(self, /, *, key=None, reverse=False)\n",
      " |      Stable sort *IN PLACE*.\n",
      " |  \n",
      " |  ----------------------------------------------------------------------\n",
      " |  Static methods defined here:\n",
      " |  \n",
      " |  __new__(*args, **kwargs) from builtins.type\n",
      " |      Create and return a new object.  See help(type) for accurate signature.\n",
      " |  \n",
      " |  ----------------------------------------------------------------------\n",
      " |  Data and other attributes defined here:\n",
      " |  \n",
      " |  __hash__ = None\n",
      "\n",
      "Function definitions\n",
      "********************\n",
      "\n",
      "A function definition defines a user-defined function object (see\n",
      "section The standard type hierarchy):\n",
      "\n",
      "   funcdef                 ::= [decorators] \"def\" funcname \"(\" [parameter_list] \")\" [\"->\" expression] \":\" suite\n",
      "   decorators              ::= decorator+\n",
      "   decorator               ::= \"@\" dotted_name [\"(\" [argument_list [\",\"]] \")\"] NEWLINE\n",
      "   dotted_name             ::= identifier (\".\" identifier)*\n",
      "   parameter_list          ::= defparameter (\",\" defparameter)* [\",\" [parameter_list_starargs]]\n",
      "                      | parameter_list_starargs\n",
      "   parameter_list_starargs ::= \"*\" [parameter] (\",\" defparameter)* [\",\" [\"**\" parameter [\",\"]]]\n",
      "                               | \"**\" parameter [\",\"]\n",
      "   parameter               ::= identifier [\":\" expression]\n",
      "   defparameter            ::= parameter [\"=\" expression]\n",
      "   funcname                ::= identifier\n",
      "\n",
      "A function definition is an executable statement.  Its execution binds\n",
      "the function name in the current local namespace to a function object\n",
      "(a wrapper around the executable code for the function).  This\n",
      "function object contains a reference to the current global namespace\n",
      "as the global namespace to be used when the function is called.\n",
      "\n",
      "The function definition does not execute the function body; this gets\n",
      "executed only when the function is called. [3]\n",
      "\n",
      "A function definition may be wrapped by one or more *decorator*\n",
      "expressions. Decorator expressions are evaluated when the function is\n",
      "defined, in the scope that contains the function definition.  The\n",
      "result must be a callable, which is invoked with the function object\n",
      "as the only argument. The returned value is bound to the function name\n",
      "instead of the function object.  Multiple decorators are applied in\n",
      "nested fashion. For example, the following code\n",
      "\n",
      "   @f1(arg)\n",
      "   @f2\n",
      "   def func(): pass\n",
      "\n",
      "is roughly equivalent to\n",
      "\n",
      "   def func(): pass\n",
      "   func = f1(arg)(f2(func))\n",
      "\n",
      "except that the original function is not temporarily bound to the name\n",
      "\"func\".\n",
      "\n",
      "When one or more *parameters* have the form *parameter* \"=\"\n",
      "*expression*, the function is said to have “default parameter values.”\n",
      "For a parameter with a default value, the corresponding *argument* may\n",
      "be omitted from a call, in which case the parameter’s default value is\n",
      "substituted.  If a parameter has a default value, all following\n",
      "parameters up until the “\"*\"” must also have a default value — this is\n",
      "a syntactic restriction that is not expressed by the grammar.\n",
      "\n",
      "**Default parameter values are evaluated from left to right when the\n",
      "function definition is executed.** This means that the expression is\n",
      "evaluated once, when the function is defined, and that the same “pre-\n",
      "computed” value is used for each call.  This is especially important\n",
      "to understand when a default parameter is a mutable object, such as a\n",
      "list or a dictionary: if the function modifies the object (e.g. by\n",
      "appending an item to a list), the default value is in effect modified.\n",
      "This is generally not what was intended.  A way around this is to use\n",
      "\"None\" as the default, and explicitly test for it in the body of the\n",
      "function, e.g.:\n",
      "\n",
      "   def whats_on_the_telly(penguin=None):\n",
      "       if penguin is None:\n",
      "           penguin = []\n",
      "       penguin.append(\"property of the zoo\")\n",
      "       return penguin\n",
      "\n",
      "Function call semantics are described in more detail in section Calls.\n",
      "A function call always assigns values to all parameters mentioned in\n",
      "the parameter list, either from position arguments, from keyword\n",
      "arguments, or from default values.  If the form “\"*identifier\"” is\n",
      "present, it is initialized to a tuple receiving any excess positional\n",
      "parameters, defaulting to the empty tuple. If the form\n",
      "“\"**identifier\"” is present, it is initialized to a new ordered\n",
      "mapping receiving any excess keyword arguments, defaulting to a new\n",
      "empty mapping of the same type.  Parameters after “\"*\"” or\n",
      "“\"*identifier\"” are keyword-only parameters and may only be passed\n",
      "used keyword arguments.\n",
      "\n",
      "Parameters may have annotations of the form “\": expression\"” following\n",
      "the parameter name.  Any parameter may have an annotation even those\n",
      "of the form \"*identifier\" or \"**identifier\".  Functions may have\n",
      "“return” annotation of the form “\"-> expression\"” after the parameter\n",
      "list.  These annotations can be any valid Python expression.  The\n",
      "presence of annotations does not change the semantics of a function.\n",
      "The annotation values are available as values of a dictionary keyed by\n",
      "the parameters’ names in the \"__annotations__\" attribute of the\n",
      "function object.  If the \"annotations\" import from \"__future__\" is\n",
      "used, annotations are preserved as strings at runtime which enables\n",
      "postponed evaluation.  Otherwise, they are evaluated when the function\n",
      "definition is executed.  In this case annotations may be evaluated in\n",
      "a different order than they appear in the source code.\n",
      "\n",
      "It is also possible to create anonymous functions (functions not bound\n",
      "to a name), for immediate use in expressions.  This uses lambda\n",
      "expressions, described in section Lambdas.  Note that the lambda\n",
      "expression is merely a shorthand for a simplified function definition;\n",
      "a function defined in a “\"def\"” statement can be passed around or\n",
      "assigned to another name just like a function defined by a lambda\n",
      "expression.  The “\"def\"” form is actually more powerful since it\n",
      "allows the execution of multiple statements and annotations.\n",
      "\n",
      "**Programmer’s note:** Functions are first-class objects.  A “\"def\"”\n",
      "statement executed inside a function definition defines a local\n",
      "function that can be returned or passed around.  Free variables used\n",
      "in the nested function can access the local variables of the function\n",
      "containing the def.  See section Naming and binding for details.\n",
      "\n",
      "See also:\n",
      "\n",
      "  **PEP 3107** - Function Annotations\n",
      "     The original specification for function annotations.\n",
      "\n",
      "  **PEP 484** - Type Hints\n",
      "     Definition of a standard meaning for annotations: type hints.\n",
      "\n",
      "  **PEP 526** - Syntax for Variable Annotations\n",
      "     Ability to type hint variable declarations, including class\n",
      "     variables and instance variables\n",
      "\n",
      "  **PEP 563** - Postponed Evaluation of Annotations\n",
      "     Support for forward references within annotations by preserving\n",
      "     annotations in a string form at runtime instead of eager\n",
      "     evaluation.\n",
      "\n"
     ]
    },
    {
     "data": {
      "text/plain": [
       "sys.version_info(major=3, minor=7, micro=0, releaselevel='final', serial=0)"
      ]
     },
     "execution_count": 1067,
     "metadata": {},
     "output_type": "execute_result"
    }
   ],
   "source": [
    "help([1, 2, 3])\n",
    "\n",
    "help(\"def\")\n",
    "\n",
    "import sys \n",
    "sys.version_info"
   ]
  },
  {
   "cell_type": "code",
   "execution_count": 1068,
   "metadata": {},
   "outputs": [
    {
     "name": "stdout",
     "output_type": "stream",
     "text": [
      "Así declaramos una variable: \n",
      "\n",
      "\n",
      "Y la imprimimos: \n",
      "2\n"
     ]
    }
   ],
   "source": [
    "print(\"Así declaramos una variable: \")\n",
    "\n",
    "x=2\n",
    "\n",
    "print(\"\\n\")\n",
    "print(\"Y la imprimimos: \")\n",
    "print(x)"
   ]
  },
  {
   "cell_type": "markdown",
   "metadata": {},
   "source": [
    "### Tipos básicos\n",
    "\n",
    "- Tipos de datos\n",
    "    - `int`: enteros\n",
    "    - `float`: punto flotante, tiene parte entera y decimal separada por punto\n",
    "    - `str`: strings\n",
    "    - `bool`: booleanos\n",
    "- Cada tipo tiene una funcionalidad distinta asociada\n",
    "- El tipado en Python es *dinámico*, lo cual significa que el tipo de variable no tiene que ser declarado al inicio, pues el tipo de variable se conoce hasta que se corre el código\n",
    "- Para saber el tipo de variables: `type()`"
   ]
  },
  {
   "cell_type": "code",
   "execution_count": 1069,
   "metadata": {},
   "outputs": [
    {
     "name": "stdout",
     "output_type": "stream",
     "text": [
      "Enteros: \n"
     ]
    },
    {
     "data": {
      "text/plain": [
       "int"
      ]
     },
     "execution_count": 1069,
     "metadata": {},
     "output_type": "execute_result"
    }
   ],
   "source": [
    "print(\"Enteros: \")\n",
    "type(5)"
   ]
  },
  {
   "cell_type": "code",
   "execution_count": 1070,
   "metadata": {},
   "outputs": [
    {
     "name": "stdout",
     "output_type": "stream",
     "text": [
      "Floats: \n"
     ]
    },
    {
     "data": {
      "text/plain": [
       "float"
      ]
     },
     "execution_count": 1070,
     "metadata": {},
     "output_type": "execute_result"
    }
   ],
   "source": [
    "print(\"Floats: \")\n",
    "#float\n",
    "type(1.10)"
   ]
  },
  {
   "cell_type": "code",
   "execution_count": 1071,
   "metadata": {},
   "outputs": [
    {
     "name": "stdout",
     "output_type": "stream",
     "text": [
      "Strings tenemos dos maneras de escribirlos: \n",
      "hola\n",
      "hola\n",
      "<class 'str'>\n",
      "Los tipos de datos se comportan diferente\n"
     ]
    },
    {
     "data": {
      "text/plain": [
       "'sepegapegapegapegapegapegapegapegapegapega'"
      ]
     },
     "execution_count": 1071,
     "metadata": {},
     "output_type": "execute_result"
    }
   ],
   "source": [
    "print(\"Strings tenemos dos maneras de escribirlos: \")\n",
    "print(\"hola\")\n",
    "print('hola')\n",
    "print(type(\"hola\"))\n",
    "\n",
    "print(\"Los tipos de datos se comportan diferente\")\n",
    "\"se\"+\"pega\"*10"
   ]
  },
  {
   "cell_type": "markdown",
   "metadata": {},
   "source": [
    "### Cast\n",
    "- `int()`\n",
    "- `float()`\n",
    "- `bool()`\n",
    "- `str()`\n",
    "\n",
    "### Asignación de variables\n",
    "- La asignación se hace usando `=`\n",
    "- Es por *referencia*, no por *valor* (recordar que en R es por *valor*)"
   ]
  },
  {
   "cell_type": "code",
   "execution_count": 1072,
   "metadata": {},
   "outputs": [
    {
     "name": "stdout",
     "output_type": "stream",
     "text": [
      "Asigno a x una lista\n",
      "[1, 2, 3]\n",
      "\n",
      "\n",
      "Ahora guardo en y lo que estaba en x\n",
      "\n",
      "\n",
      "Ahora modifico la primer entrada de y en 100\n",
      "\n",
      "\n",
      "Imprimo x y me doy cuenta que el valor también cambió\n",
      "Esto es porque la asignación es por referencia, no por valor\n",
      "[100, 2, 3]\n",
      "\n",
      "\n",
      "Ahora si en vez de lo anterior convierto a lista:\n",
      "Vuelvo a modificar la primer entrada de y en 1000000\n",
      "ahora 'y' es [1000000, 2, 3]\n",
      "\n",
      "\n",
      "Pero el valor de x no se modifico, ¿por qué?\n",
      "[100, 2, 3]\n"
     ]
    }
   ],
   "source": [
    "print(\"Asigno a x una lista\")\n",
    "x = [1,2,3]\n",
    "print(x)\n",
    "\n",
    "print(\"\\n\")\n",
    "print(\"Ahora guardo en y lo que estaba en x\")\n",
    "y = x\n",
    "\n",
    "print(\"\\n\")\n",
    "y[0] =100\n",
    "print(\"Ahora modifico la primer entrada de y en \" + str(y[0]))\n",
    "\n",
    "\n",
    "\n",
    "print(\"\\n\")\n",
    "print(\"Imprimo x y me doy cuenta que el valor también cambió\")\n",
    "print(\"Esto es porque la asignación es por referencia, no por valor\")\n",
    "print(x)\n",
    "\n",
    "print(\"\\n\")\n",
    "print(\"Ahora si en vez de lo anterior convierto a lista:\")\n",
    "y=list(x)\n",
    "\n",
    "y[0]=1000000\n",
    "print(\"Vuelvo a modificar la primer entrada de y en \" + str(y[0]))\n",
    "print(\"ahora 'y' es \" + str(y))\n",
    "\n",
    "print(\"\\n\")\n",
    "print(\"Pero el valor de x no se modifico, ¿por qué?\")\n",
    "\n",
    "print(x)"
   ]
  },
  {
   "cell_type": "markdown",
   "metadata": {},
   "source": [
    "Si quisiéramos que no se modifique el valor, es decir, hacer **asignación por valor** como hacíamos en R, hacemos:\n"
   ]
  },
  {
   "cell_type": "code",
   "execution_count": 1073,
   "metadata": {},
   "outputs": [
    {
     "name": "stdout",
     "output_type": "stream",
     "text": [
      "[1, 2, 3]\n",
      "[3, 2, 3]\n"
     ]
    }
   ],
   "source": [
    "x = [1,2,3]\n",
    "y = x[:]\n",
    "x[0] = 3\n",
    "print(y)\n",
    "print(x)"
   ]
  },
  {
   "cell_type": "markdown",
   "metadata": {},
   "source": [
    "### Impresión\n",
    "- Se hace usando `print()`\n",
    "- Si se van a imprimir varios tipos de datos, se tiene que hacer *cast* a string antes "
   ]
  },
  {
   "cell_type": "code",
   "execution_count": 1074,
   "metadata": {},
   "outputs": [
    {
     "name": "stdout",
     "output_type": "stream",
     "text": [
      "Hola, tengo 20 años\n"
     ]
    }
   ],
   "source": [
    "x = 20\n",
    "print(\"Hola, tengo \" + str(x) + \" años\")"
   ]
  },
  {
   "cell_type": "code",
   "execution_count": 1075,
   "metadata": {},
   "outputs": [
    {
     "name": "stdout",
     "output_type": "stream",
     "text": [
      "50 20 10\n"
     ]
    }
   ],
   "source": [
    "print(x+30, x, 10)\n"
   ]
  },
  {
   "cell_type": "code",
   "execution_count": 1076,
   "metadata": {},
   "outputs": [
    {
     "data": {
      "text/plain": [
       "1"
      ]
     },
     "execution_count": 1076,
     "metadata": {},
     "output_type": "execute_result"
    }
   ],
   "source": [
    "True+False"
   ]
  },
  {
   "cell_type": "markdown",
   "metadata": {},
   "source": [
    "> **EJERCICIO.** ¿Cómo difiere Python de R con respecto a la forma de imprimir?"
   ]
  },
  {
   "cell_type": "markdown",
   "metadata": {},
   "source": [
    "### Listas\n",
    "- Otro tipo de dato\n",
    "- Sintaxis: `[x, y, z]`\n",
    "- Colección de valores\n",
    "- Pueden tener cualquier tipo de dato (incluso listas!)\n",
    "- Con `len` puedo ver su longitud"
   ]
  },
  {
   "cell_type": "code",
   "execution_count": 1077,
   "metadata": {},
   "outputs": [
    {
     "name": "stdout",
     "output_type": "stream",
     "text": [
      "['hola', 'tengo', 10, ['años', 'y contanto']]\n",
      "4\n"
     ]
    }
   ],
   "source": [
    "my_lista  = [\"hola\", \"tengo\", 10, [\"años\", \"y contanto\"]]\n",
    "print(my_lista)\n",
    "print(len(my_lista))"
   ]
  },
  {
   "cell_type": "markdown",
   "metadata": {},
   "source": [
    "#### Acceso a listas:\n",
    "\n",
    "    - Indexación: se hace usando `[]` al elemento que queremos accesar. \n",
    "        - Se empieza por *cero*, es decir `[0]` es el primer elemento\n",
    "        - Podemos accesar al último elemento usando `[-1]`\n",
    "    - Rangos: para obtener un subconjunto de la muestra, se hace usando `[inicio: final]`\n",
    "        - El inicio es inclusivo, el final es exclusivo, es decir, el final no se incluye\n",
    "    - Manipulación:\n",
    "        - Cambiar elementos: simplemente uso `[]` para acceder a los elementos\n",
    "        - Añadir elementos: lo agrego usando `+` y el elemento a añadir en corchetes\n",
    "        - Eliminar elementos: uso `del[elemento]`"
   ]
  },
  {
   "cell_type": "code",
   "execution_count": 1078,
   "metadata": {},
   "outputs": [
    {
     "name": "stdout",
     "output_type": "stream",
     "text": [
      "hola\n",
      "['años', 'y contanto']\n",
      "['hola', 'tengo']\n",
      "['hola', 'tengo', 10]\n",
      "['tengo', 10, ['años', 'y contanto']]\n",
      "['hola', 'tengo', 10, ['años', 'y contanto']]\n",
      "['ya', 'cambié', 20, ['años', 'y contanto']]\n",
      "['ya', 'cambié', 20, ['años', 'y contanto'], 'a lo seguro']\n",
      "['cambié', 20, ['años', 'y contanto']]\n"
     ]
    }
   ],
   "source": [
    "print(my_lista[0])\n",
    "print(my_lista[-1])\n",
    "\n",
    "print(my_lista[0:2])\n",
    "print(my_lista[:3])\n",
    "print(my_lista[-3:])\n",
    "\n",
    "print(my_lista[0:])\n",
    "\n",
    "my_lista[2] = 20\n",
    "my_lista[0:2] =[\"ya\", \"cambié\"]\n",
    "print(my_lista)\n",
    "\n",
    "print(my_lista + [\"a lo seguro\"])\n",
    "\n",
    "del(my_lista[0])\n",
    "print(my_lista)"
   ]
  },
  {
   "cell_type": "markdown",
   "metadata": {},
   "source": [
    "### Operadores\n",
    "- Booleanos se escriben con letras *and, or, not*\n",
    "- Operadores `<,>,>=,<=,==,!=`"
   ]
  },
  {
   "cell_type": "code",
   "execution_count": 1079,
   "metadata": {},
   "outputs": [
    {
     "name": "stdout",
     "output_type": "stream",
     "text": [
      "False\n",
      "True\n",
      "False\n",
      "False\n"
     ]
    }
   ],
   "source": [
    "v1=True\n",
    "v2=False\n",
    "print(v1 and v2) \n",
    "print(v1 or v2)  \n",
    "print(not v1)\n",
    "print(5>6)"
   ]
  },
  {
   "cell_type": "markdown",
   "metadata": {},
   "source": [
    "### Funciones"
   ]
  },
  {
   "cell_type": "markdown",
   "metadata": {},
   "source": [
    "- Como en Matemáticas y se mandan llamar así `output = nombre_funcion(input)`\n",
    "- `max()`, `round()`, `min()`"
   ]
  },
  {
   "cell_type": "code",
   "execution_count": 1080,
   "metadata": {},
   "outputs": [
    {
     "name": "stdout",
     "output_type": "stream",
     "text": [
      "378\n",
      "2\n",
      "1.6\n"
     ]
    }
   ],
   "source": [
    "print(max([1, 378, 26, 8])), print(round(1.56)); print(round(1.56, 1))"
   ]
  },
  {
   "cell_type": "markdown",
   "metadata": {},
   "source": [
    "> **EJERCICIO.** Crea un vector y normalízalo (i.e. que todos los valores queden entre 0 y 1). Después veremos otra manera de normalizar."
   ]
  },
  {
   "cell_type": "code",
   "execution_count": 1081,
   "metadata": {},
   "outputs": [
    {
     "data": {
      "text/plain": [
       "[0.0, 0.07352941176470588, 0.22058823529411764, 0.5294117647058824, 1.0]"
      ]
     },
     "execution_count": 1081,
     "metadata": {},
     "output_type": "execute_result"
    }
   ],
   "source": [
    "n = [10,15,25,46,78]\n",
    "\n",
    "def normalize_lista(lista_normal):\n",
    "    max_val = max(lista_normal)\n",
    "    min_val = min(lista_normal)\n",
    "    for i in range(len(lista_normal)):\n",
    "        lista_normal[i] = (lista_normal[i]-min_val)/(max_val-min_val)\n",
    "    return(lista_normal)\n",
    "\n",
    "normalize_lista(n)"
   ]
  },
  {
   "cell_type": "markdown",
   "metadata": {},
   "source": [
    "### Métodos\n",
    "- Todo en Python es objeto, tiene asociados métodos\n",
    "- Los métodos funciones de los objetos\n",
    "- Se mandan llamar llamar usando `.` antes del objeto\n",
    "- Métodos comunes de listas: \n",
    "    - `.index(\"Fer\")` me da el índice de un elemento que quiera buscar en mi lista\n",
    "    - `.count(\"cuentame\")` me da las veces que el elemento aparece en mi lista\n",
    "    - `.append(\"agrégame\")` me permite añadir al final de mi lista un elemento\n",
    "    - `.remove(\"elimíname\")` me permite remover el primer elemento que cumple con el patrón dado\n",
    "    - `.reverse` me pone el orden al revés\n",
    "- Métodos comunes de strings:\n",
    "    - `.capitalize()` me pone la primer letra de mi string en mayúscula\n",
    "    - `.replace(\"ap\", \"rep\")` me remplaza todas las ocurrencias de \"ap\" en mi lista por \"rep\"\n",
    "    \n",
    "- ¿Cómo saber qué métodos hay para un tipo de dato? -> usamos `?`"
   ]
  },
  {
   "cell_type": "code",
   "execution_count": 1082,
   "metadata": {},
   "outputs": [
    {
     "name": "stdout",
     "output_type": "stream",
     "text": [
      "['cambié', 20, ['años', 'y contanto']]\n"
     ]
    },
    {
     "data": {
      "text/plain": [
       "1"
      ]
     },
     "execution_count": 1082,
     "metadata": {},
     "output_type": "execute_result"
    }
   ],
   "source": [
    "print(my_lista)\n",
    "my_lista.index(20)"
   ]
  },
  {
   "cell_type": "code",
   "execution_count": 1083,
   "metadata": {},
   "outputs": [
    {
     "data": {
      "text/plain": [
       "['cambié', 20, ['años', 'y contanto']]"
      ]
     },
     "execution_count": 1083,
     "metadata": {},
     "output_type": "execute_result"
    }
   ],
   "source": [
    "my_lista"
   ]
  },
  {
   "cell_type": "markdown",
   "metadata": {},
   "source": [
    "> **EJERCICIO**. Crea una lista y aplica cada una de las funciones de arriba"
   ]
  },
  {
   "cell_type": "markdown",
   "metadata": {},
   "source": [
    "### Paquetes\n",
    "- Son como scripts\n",
    "- Tienen definidas funciones y métodos\n",
    "- Se tienen miles de paquetes. Los hay para ciencia de Datos y son los que veremos como:\n",
    "    - **Numpy:** es el paquete fundamental para cómputo numérico, para manejar arreglos y matrices\n",
    "    - **Matplotlib:** visualización en 2D\n",
    "    - **Pandas:** manipulación de estructuras de datos con alto desempeño\n",
    "    - **Scikit-learn:** machine learning\n",
    "- Todos estos paquetes pertencen al ecosistema [SciPy](https://www.scipy.org/about.html), que quiere decir \"Scientific Python\", *Scientific Computing Tools for Python*\n",
    "- Instalar:\n",
    "    - pip, un manejador de paquetes. Ir [aquí](https://pip.readthedocs.io/en/stable/installing/) y bajar `get-pip.py`\n",
    "    - Ejecutar `get-pip.py` en la terminal y así podemos usar `pip` para instalar paquetes\n",
    "- Importar paquete: `import nombre_paquete` -> esto importa toda la funcionalidad del paquete\n",
    "- Tenemos 3 opciones para importar:\n",
    "    - Hay que dar alias al paquete para llamarlo `import numpy as np`\n",
    "    - Si sólo queremos una función específica del paquete podemos usar: `from numpy import array`\n",
    "    - Si queremos importar todo lo que tiene numpy hacemos `from numpy import *` -> esta opción nos permite no tener que llamar a cada método"
   ]
  },
  {
   "cell_type": "code",
   "execution_count": 1084,
   "metadata": {
    "scrolled": true
   },
   "outputs": [
    {
     "name": "stdout",
     "output_type": "stream",
     "text": [
      "\n",
      "\n",
      "Imprimimos arreglo:\n",
      "\n",
      "\n",
      "[10 30 40]\n"
     ]
    }
   ],
   "source": [
    "import numpy as np\n",
    "\n",
    "#array([10,30,40]) marca error porque el método del paquete se debe llamar\n",
    "\n",
    "print(\"\\n\")\n",
    "print(\"Imprimimos arreglo:\")\n",
    "print(\"\\n\")\n",
    "print(np.array([10,30,40]))"
   ]
  },
  {
   "cell_type": "code",
   "execution_count": 1085,
   "metadata": {},
   "outputs": [
    {
     "name": "stdout",
     "output_type": "stream",
     "text": [
      "\n",
      "\n",
      "Si importamos 'array' igual nos imprime lo mismo\n",
      "\n",
      "\n",
      "[10 30 40]\n"
     ]
    }
   ],
   "source": [
    "from numpy import array\n",
    "\n",
    "print(\"\\n\")\n",
    "print(\"Si importamos 'array' igual nos imprime lo mismo\")\n",
    "print(\"\\n\")\n",
    "print(array([10,30,40]))"
   ]
  },
  {
   "cell_type": "markdown",
   "metadata": {},
   "source": [
    "## NumPy\n",
    "- Las listas son potentes pero no es posible aplicar muchas operaciones matemáticas sobre ellas\n",
    "- **NumPy** viene de \"numeric Python\"\n",
    "- La arternativa a las listas es el \"NumPy array\", una librería de Python muy optimizada\n",
    "- Se pueden hacer cálculos matemáticos sobre arreglos enteros fácil y rápidamente\n",
    "- Desventaja vs listas: no se pueden guardar varios tipos de datos. Si se guardan diferentes entonces se hace *coerción*\n",
    "- Sin embargo, NumPy es muy rápido justo gracias a que sólo guarda un tipo de dato\n",
    "- Instalación: `pip install numpy`\n",
    "- Se accesa igual que a las listas, usando `[]`\n",
    "- Atributos importantes: \n",
    "    - `.size` para ver número de elementos\n",
    "    - `.shape` para ver dimensión\n",
    "    - `.dtype` para ver el tipo de datos que guarda\n",
    "- Documentación de métodos para *arrays*: checar [aquí](https://docs.scipy.org/doc/numpy-1.13.0/reference/arrays.ndarray.html)\n"
   ]
  },
  {
   "cell_type": "code",
   "execution_count": 1086,
   "metadata": {},
   "outputs": [
    {
     "name": "stdout",
     "output_type": "stream",
     "text": [
      "El vector construido es: \n",
      "[1 2 3 4 5]\n",
      "\n",
      "\n",
      "Su número de elementos es:\n",
      "5\n",
      "\n",
      "\n",
      "Su dimensión es:\n",
      "(5,)\n",
      "\n",
      "\n",
      "Su tipo de datos es:\n",
      "int64\n",
      "\n",
      "\n",
      "Podemos hacer operaciones aritméticas sobre él:\n",
      "[ 9 18 27 36 45]\n",
      "\n",
      "\n",
      "Sin embargo no es posible guardar varios tipos de datos:\n",
      "['100' 'Fer' 'False']\n",
      "\n",
      "\n",
      "Pero sí es posible sumar arrays: \n",
      "[50 65 71]\n",
      "\n",
      "\n",
      "Y accesar a sus componentes usando corchetes: \n",
      "2\n",
      "\n",
      "\n",
      "Veamos qué entradas son mayores que 3\n",
      "[False False False  True  True]\n",
      "\n",
      "\n",
      "Y a qué elementos corresponden\n",
      "[4 5]\n"
     ]
    }
   ],
   "source": [
    "import numpy as np\n",
    "vec1 = np.array([1,2,3,4,5])\n",
    "\n",
    "print(\"El vector construido es: \")\n",
    "print(vec1)\n",
    "\n",
    "print(\"\\n\")\n",
    "print(\"Su número de elementos es:\")\n",
    "print(vec1.size)\n",
    "\n",
    "print(\"\\n\")\n",
    "print(\"Su dimensión es:\")\n",
    "print(vec1.shape)\n",
    "\n",
    "print(\"\\n\")\n",
    "print(\"Su tipo de datos es:\")\n",
    "print(vec1.dtype)\n",
    "\n",
    "print(\"\\n\")\n",
    "print(\"Podemos hacer operaciones aritméticas sobre él:\")\n",
    "print(vec1*3**2)\n",
    "\n",
    "print(\"\\n\")\n",
    "print(\"Sin embargo no es posible guardar varios tipos de datos:\")\n",
    "print(np.array([100, \"Fer\", False]))\n",
    "\n",
    "print(\"\\n\")\n",
    "print(\"Pero sí es posible sumar arrays: \")\n",
    "print(np.array((30, 40, 55)) + np.array((20, 25, 16)))\n",
    "\n",
    "print(\"\\n\")\n",
    "print(\"Y accesar a sus componentes usando corchetes: \")\n",
    "print(vec1[1])\n",
    "\n",
    "print(\"\\n\")\n",
    "print(\"Veamos qué entradas son mayores que 3\")\n",
    "print(vec1>3)\n",
    "\n",
    "print(\"\\n\")\n",
    "print(\"Y a qué elementos corresponden\")\n",
    "print(vec1[vec1>3])"
   ]
  },
  {
   "cell_type": "markdown",
   "metadata": {},
   "source": [
    "Operaciones útiles:\n"
   ]
  },
  {
   "cell_type": "code",
   "execution_count": 1087,
   "metadata": {
    "scrolled": true
   },
   "outputs": [
    {
     "name": "stdout",
     "output_type": "stream",
     "text": [
      "Imprimir los números pares: \n",
      "[0 2 4 6 8]\n",
      "\n",
      "\n",
      "v1 es: [1 2 3 2 3 4 3 4 5 6]\n",
      "v2 es: [ 7  2 10  2  7  4  9  4  9  8]\n",
      "Posiciones en común: \n",
      "(array([1, 3, 5, 7]),)\n",
      "\n",
      "\n",
      "Imprimir solo los números que están en cierto rango\n",
      "[ 0  1  2  3  4  5  6  7  8  9 10 11 12 13 14 15 16 17 18 19]\n",
      "[10 11 12 13 14 15 16 17 18 19]\n",
      "\n",
      "\n",
      "v1 es: \n",
      "[[0 1 2 3 4]\n",
      " [5 6 7 8 9]]\n",
      "v2 es: \n",
      "[[1 1 1 1 1]\n",
      " [1 1 1 1 1]]\n",
      "Stack dos vectores verticalmente: \n",
      "[[0 1 2 3 4]\n",
      " [5 6 7 8 9]\n",
      " [1 1 1 1 1]\n",
      " [1 1 1 1 1]]\n",
      "Stack dos vectores horizontalmente: \n",
      "[[0 1 2 3 4 1 1 1 1 1]\n",
      " [5 6 7 8 9 1 1 1 1 1]]\n",
      "\n",
      "\n",
      "Encontrar la intersección de dos vectores: \n",
      "v2 es: \n",
      "[1 2 3 4 5 6]\n",
      "v2 es: \n",
      "[ 6  7 10  2  7  4  9  4  9  8]\n",
      "La intersección es: \n",
      "[2 4 6]\n",
      "\n",
      "\n",
      "Diferencia de dos vectores: \n",
      "[1 3 5]\n"
     ]
    }
   ],
   "source": [
    "print(\"Imprimir los números pares: \")\n",
    "arr = np.array([0, 1, 2, 3, 4, 5, 6, 7, 8, 9])\n",
    "print(arr[arr % 2 == 0])\n",
    "\n",
    "print(\"\\n\")\n",
    "v1 = np.array([1,2,3,2,3,4,3,4,5,6])\n",
    "print(\"v1 es: \" + str(v1))\n",
    "v2 = np.array([7,2,10,2,7,4,9,4,9,8])\n",
    "print(\"v2 es: \" + str(v2))\n",
    "print(\"Posiciones en común: \")\n",
    "print(np.where(v1 == v2))\n",
    "\n",
    "print(\"\\n\")\n",
    "print(\"Imprimir solo los números que están en cierto rango\")\n",
    "a = np.arange(20)\n",
    "print(a)\n",
    "print(a[(a >= 10) & (a <= 20)])\n",
    "\n",
    "print(\"\\n\")\n",
    "v1 = np.arange(10).reshape(2,-1)\n",
    "v2 = np.repeat(1, 10).reshape(2,-1)\n",
    "print(\"v1 es: \")\n",
    "print(v1)\n",
    "print(\"v2 es: \" + \"\\n\" + str(v2))\n",
    "print(\"Stack dos vectores verticalmente: \")\n",
    "print(np.vstack([v1, v2]))\n",
    "\n",
    "print(\"Stack dos vectores horizontalmente: \")\n",
    "print(np.hstack([v1, v2]))\n",
    "\n",
    "print(\"\\n\")\n",
    "print(\"Encontrar la intersección de dos vectores: \")\n",
    "\n",
    "v1 = np.array([1,2,3,4,5,6])\n",
    "print(\"v2 es: \" + \"\\n\" + str(v1))\n",
    "v2 = np.array([6,7,10,2,7,4,9,4,9,8])\n",
    "print(\"v2 es: \" + \"\\n\" + str(v2))\n",
    "print(\"La intersección es: \")\n",
    "print(np.intersect1d(v1,v2))\n",
    "\n",
    "print(\"\\n\")\n",
    "print(\"Diferencia de dos vectores: \")\n",
    "print(np.setdiff1d(v1,v2))\n",
    "\n",
    "      "
   ]
  },
  {
   "cell_type": "markdown",
   "metadata": {},
   "source": [
    "> **EJERCICIO.** Calcula los siguientes vectores:\n"
   ]
  },
  {
   "cell_type": "code",
   "execution_count": 1088,
   "metadata": {},
   "outputs": [],
   "source": [
    "#Ahora remplaza los números pares por el valor -1000 (hint: igual que en R)\n",
    "\n",
    "#Encuentra los números impares y reemplaza por -1\n",
    "\n",
    "#Escribe un vector y normalízalo (i.e. que sus entradas queden entre 0 y 1). Hint: usa el método max() y el min()\n",
    "\n",
    "#Ahora reemplaza todas las entradas que sean mayores o iguales que 0.5 por 1 y las que sean menores por -1"
   ]
  },
  {
   "cell_type": "markdown",
   "metadata": {},
   "source": [
    "### 2d-dimensional arrays\n",
    "- Se pueden crear con la misma sintaxis\n",
    "- Con el método `.shape` se puede saber su dimensión\n",
    "- No se pueden poner distintos tipos de datos\n",
    "- Indexación se hace igual\n",
    "- Es fácil indexar con `[m,n]` que con `[m][n]`"
   ]
  },
  {
   "cell_type": "code",
   "execution_count": 1089,
   "metadata": {},
   "outputs": [
    {
     "name": "stdout",
     "output_type": "stream",
     "text": [
      "El vector construido es: \n",
      "[[1 2 3]\n",
      " [4 5 6]]\n",
      "\n",
      "\n",
      "Su dimensión es: \n",
      "(2, 3)\n"
     ]
    }
   ],
   "source": [
    "vec2d = np.array([[1, 2, 3],[4, 5, 6]])\n",
    "\n",
    "print(\"El vector construido es: \")\n",
    "print(vec2d)\n",
    "\n",
    "print(\"\\n\")\n",
    "print(\"Su dimensión es: \")\n",
    "print(vec2d.shape)"
   ]
  },
  {
   "cell_type": "code",
   "execution_count": 1090,
   "metadata": {},
   "outputs": [
    {
     "name": "stdout",
     "output_type": "stream",
     "text": [
      "La primera entrada es: \n",
      "[1 2 3]\n",
      "\n",
      "\n",
      "El tercer elemento de la primera entrada es:\n",
      "3\n",
      "\n",
      "\n",
      "El elemento segundo de las dos entradas son\n",
      "[[2]\n",
      " [5]]\n",
      "\n",
      "\n",
      "La segunda entrada es:\n",
      "[4 5 6]\n"
     ]
    }
   ],
   "source": [
    "print(\"La primera entrada es: \")\n",
    "print(vec2d[0])\n",
    "\n",
    "print(\"\\n\")\n",
    "print(\"El tercer elemento de la primera entrada es:\")\n",
    "print(vec2d[0][2])\n",
    "\n",
    "print(\"\\n\")\n",
    "print(\"El elemento segundo de las dos entradas son\")\n",
    "print(vec2d[ :, 1:2])\n",
    "\n",
    "print(\"\\n\")\n",
    "print(\"La segunda entrada es:\")\n",
    "print(vec2d[1, :])\n"
   ]
  },
  {
   "cell_type": "markdown",
   "metadata": {},
   "source": [
    "## Basics de análisis de datos"
   ]
  },
  {
   "cell_type": "markdown",
   "metadata": {},
   "source": [
    "- Igual que en R, es importante tener estadísticas de resumen: media, mediana, desviación estándar, correlaciones\n",
    "- NumPy tiene muchas funciones predefinidas con este propósito\n",
    "- Se puede generar cualquier variable aleatoria, ver [documentación](https://docs.scipy.org/doc/numpy-1.14.0/reference/routines.random.html)\n"
   ]
  },
  {
   "cell_type": "code",
   "execution_count": 1091,
   "metadata": {},
   "outputs": [
    {
     "name": "stdout",
     "output_type": "stream",
     "text": [
      "<class 'numpy.ndarray'>\n",
      "\n",
      "\n",
      "El vector de normales y exponenciales simuladas es: \n",
      "\n",
      "\n",
      "[[ 0.50609397  2.0214746 ]\n",
      " [-0.49287754  2.501123  ]\n",
      " [ 0.75886361  1.75053838]\n",
      " ...\n",
      " [ 1.91409603  5.82748061]\n",
      " [ 0.37180264  5.50419003]\n",
      " [ 0.0761664   2.90002793]]\n",
      "\n",
      "\n",
      "Resultados normal: \n",
      "La media es 0.01324852559924176\n",
      "La mediana es 0.019622312947914923\n",
      "La desviación estándar es 1.005824495406849\n",
      "\n",
      "\n",
      "Resultados exponencial: \n",
      "La media es 5.003145674503628\n",
      "La mediana es 3.459936009199076\n",
      "La desviación estándar es 4.997727708397107\n",
      "[[1. 1.]\n",
      " [1. 1.]]\n"
     ]
    }
   ],
   "source": [
    "muestra_normal = np.random.normal(0, 1, 10000)\n",
    "muestra_exp = np.random.exponential(5, 10000)\n",
    "\n",
    "vecsim = np.column_stack((muestra_normal, muestra_exp ))\n",
    "print(type(vecsim))\n",
    "\n",
    "print(\"\\n\")\n",
    "print(\"El vector de normales y exponenciales simuladas es: \")\n",
    "\n",
    "print(\"\\n\")\n",
    "print(vecsim)\n",
    "\n",
    "print(\"\\n\")\n",
    "print(\"Resultados normal: \")\n",
    "print(\"La media es \" + str(np.mean(vecsim[:,0])))\n",
    "print(\"La mediana es \" + str(np.median(vecsim[:,0])))\n",
    "print(\"La desviación estándar es \" + str(np.std(vecsim[:,0])))\n",
    "\n",
    "\n",
    "print(\"\\n\")\n",
    "print(\"Resultados exponencial: \")\n",
    "print(\"La media es \" + str(np.mean(vecsim[:,1])))\n",
    "print(\"La mediana es \" + str(np.median(vecsim[:,1])))\n",
    "print(\"La desviación estándar es \" + str(np.std(vecsim[:,1])))\n",
    "\n",
    "print(np.corrcoef(vecsim[0,:], vecsim[1,:]))"
   ]
  },
  {
   "cell_type": "code",
   "execution_count": 1092,
   "metadata": {},
   "outputs": [
    {
     "name": "stdout",
     "output_type": "stream",
     "text": [
      "El tamaño del arreglo es: \n"
     ]
    },
    {
     "data": {
      "text/plain": [
       "(10000, 2)"
      ]
     },
     "execution_count": 1092,
     "metadata": {},
     "output_type": "execute_result"
    }
   ],
   "source": [
    "print(\"El tamaño del arreglo es: \")\n",
    "vecsim.shape"
   ]
  },
  {
   "cell_type": "code",
   "execution_count": 1093,
   "metadata": {},
   "outputs": [
    {
     "name": "stdout",
     "output_type": "stream",
     "text": [
      "\n",
      "\n",
      "Y así se ve: \n",
      "\n",
      "\n",
      "[[ 0.50609397  2.0214746 ]\n",
      " [-0.49287754  2.501123  ]\n",
      " [ 0.75886361  1.75053838]\n",
      " ...\n",
      " [ 1.91409603  5.82748061]\n",
      " [ 0.37180264  5.50419003]\n",
      " [ 0.0761664   2.90002793]]\n"
     ]
    }
   ],
   "source": [
    "print(\"\\n\")\n",
    "print(\"Y así se ve: \")\n",
    "print(\"\\n\")\n",
    "print(vecsim)\n"
   ]
  },
  {
   "cell_type": "code",
   "execution_count": 1094,
   "metadata": {},
   "outputs": [
    {
     "name": "stdout",
     "output_type": "stream",
     "text": [
      "La muestra de normales: \n"
     ]
    },
    {
     "data": {
      "text/plain": [
       "array([ 0.50609397, -0.49287754,  0.75886361, ...,  1.91409603,\n",
       "        0.37180264,  0.0761664 ])"
      ]
     },
     "execution_count": 1094,
     "metadata": {},
     "output_type": "execute_result"
    }
   ],
   "source": [
    "print(\"La muestra de normales: \")\n",
    "vecsim[:,0]\n"
   ]
  },
  {
   "cell_type": "code",
   "execution_count": 1095,
   "metadata": {},
   "outputs": [
    {
     "name": "stdout",
     "output_type": "stream",
     "text": [
      "La muestra de exponenciales: \n"
     ]
    },
    {
     "data": {
      "text/plain": [
       "array([2.0214746 , 2.501123  , 1.75053838, ..., 5.82748061, 5.50419003,\n",
       "       2.90002793])"
      ]
     },
     "execution_count": 1095,
     "metadata": {},
     "output_type": "execute_result"
    }
   ],
   "source": [
    "print(\"La muestra de exponenciales: \")\n",
    "vecsim[:,1]\n"
   ]
  },
  {
   "cell_type": "markdown",
   "metadata": {},
   "source": [
    "## Visualización\n",
    "- Existen varios paquetes para visualización, pero el estrella es `matplotlib`\n",
    "- Permite hacer gráficos de líneas, de dispersión, histogramas\n",
    "- Permite cambiar escala de los ejes `plt.xscale('log')`"
   ]
  },
  {
   "cell_type": "markdown",
   "metadata": {},
   "source": [
    "### Gráfico de líneas\n",
    "\n",
    "- Útil para series de tiempo\n",
    "- Nos ayuda a ver tendencias\n",
    "\n",
    "*Sintaxis:* `plt.plot(x, y)`\n",
    "\n",
    "*Sintaxis:* Ejes con `plt.xlabel(\"eje x\")`\n",
    "\n",
    "*Sintaxis:* Ejes con `plt.ylabel(\"eje y\")`\n",
    "\n",
    "*Sintaxis:* Título con `plt.title(\"titulo\")`\n"
   ]
  },
  {
   "cell_type": "code",
   "execution_count": 1096,
   "metadata": {},
   "outputs": [
    {
     "data": {
      "image/png": "[encoded data removed]",
      "text/plain": [
       "<Figure size 432x288 with 1 Axes>"
      ]
     },
     "metadata": {
      "needs_background": "light"
     },
     "output_type": "display_data"
    }
   ],
   "source": [
    "import matplotlib.pyplot as plt\n",
    "\n",
    "plt.plot(vecsim[0:100, 0], vecsim[0:100, 1])\n",
    "plt.xlabel(\"Simulaciones normales\")\n",
    "plt.ylabel(\"Simulaciones exponenciales\")\n",
    "plt.title(\"Simulaciones normales vs exponenciales\")\n",
    "plt.show()"
   ]
  },
  {
   "cell_type": "markdown",
   "metadata": {},
   "source": [
    "### Gráfico de dispersión\n",
    "\n",
    "- Nos sirve para ver la relación entre dos variables numéricas\n",
    "- Nos ayuda a ver una posible correlación \n",
    "\n",
    "*Sintaxis:* `plt.scatter(x, y)`\n",
    "\n",
    "*Argumentos:* `scatter(x, y)`\n",
    "\n",
    "*Sintaxis:* `plt.yticks([...])` o bien `plt.yticks([...], [names])` para poner un nombre a los ticks del eje y\n",
    "\n",
    "*Sintaxis:* `plt.xticks([...])` o bien `plt.xticks([...], [names])` para poner un nombre a los ticks del eje x\n",
    "\n",
    "\n",
    "*Sintaxis:* `range(inicio, fin, paso)`. Ojo, el fin es exclusivo, se detiene uno antes.\n",
    "\n",
    "*Sintaxis: * `\n",
    "\n"
   ]
  },
  {
   "cell_type": "code",
   "execution_count": 1097,
   "metadata": {},
   "outputs": [
    {
     "data": {
      "image/png": "[encoded data removed]",
      "text/plain": [
       "<Figure size 432x288 with 1 Axes>"
      ]
     },
     "metadata": {
      "needs_background": "light"
     },
     "output_type": "display_data"
    }
   ],
   "source": [
    "#help(plt.scatter)\n",
    "plt.xscale('log')\n",
    "plt.scatter(vecsim[0:100, 0], vecsim[0:100, 1])\n",
    "plt.yticks([range(0, 10, 2)])\n",
    "plt.yticks([0,2,4,6,8,10], ['0e','2e', '3e', '4e', '5e','6e'])\n",
    "plt.show()"
   ]
  },
  {
   "cell_type": "markdown",
   "metadata": {},
   "source": [
    "### Histograma\n",
    "\n",
    "- Nos ayuda a ver distribución de UNA variable numérica\n",
    "\n",
    "*Sintaxis:* `plt.hist(x, y)`\n",
    "\n",
    "*Argumentos:* `hist(x, bins=None)`\n",
    "\n",
    "- `plt.clf()` nos ayuda a limpiar para poder plotear otra cosa. Si no lo hacemos y ponemos enseguida otra gráfica, las encimará."
   ]
  },
  {
   "cell_type": "code",
   "execution_count": 1098,
   "metadata": {},
   "outputs": [
    {
     "name": "stdout",
     "output_type": "stream",
     "text": [
      "\n",
      "\n",
      "Si no le damos el número de bins, el default es 10\n"
     ]
    },
    {
     "data": {
      "image/png": "[encoded data removed]",
      "text/plain": [
       "<Figure size 432x288 with 1 Axes>"
      ]
     },
     "metadata": {
      "needs_background": "light"
     },
     "output_type": "display_data"
    }
   ],
   "source": [
    "print(\"\\n\")\n",
    "print(\"Si no le damos el número de bins, el default es 10\")\n",
    "\n",
    "\n",
    "plt.hist(vecsim[0:100, 0])\n",
    "plt.show()\n",
    "\n"
   ]
  },
  {
   "cell_type": "code",
   "execution_count": 1099,
   "metadata": {},
   "outputs": [
    {
     "name": "stdout",
     "output_type": "stream",
     "text": [
      "\n",
      "\n",
      "Ahora le damos un número de bins de 20\n"
     ]
    },
    {
     "data": {
      "image/png": "[encoded data removed]",
      "text/plain": [
       "<Figure size 432x288 with 1 Axes>"
      ]
     },
     "metadata": {
      "needs_background": "light"
     },
     "output_type": "display_data"
    }
   ],
   "source": [
    "\n",
    "plt.clf()\n",
    "print(\"\\n\")\n",
    "print(\"Ahora le damos un número de bins de 20\")\n",
    "\n",
    "plt.hist(vecsim[0:100, 0], 20)\n",
    "plt.show()\n",
    "\n"
   ]
  },
  {
   "cell_type": "code",
   "execution_count": 1100,
   "metadata": {},
   "outputs": [
    {
     "name": "stdout",
     "output_type": "stream",
     "text": [
      "\n",
      "\n",
      "Ahora le damos un número de bins de 5\n"
     ]
    },
    {
     "data": {
      "image/png": "[encoded data removed]",
      "text/plain": [
       "<Figure size 432x288 with 1 Axes>"
      ]
     },
     "metadata": {
      "needs_background": "light"
     },
     "output_type": "display_data"
    }
   ],
   "source": [
    "\n",
    "plt.clf()\n",
    "print(\"\\n\")\n",
    "print(\"Ahora le damos un número de bins de 5\")\n",
    "plt.hist(vecsim[0:100, 0], 5)\n",
    "plt.show()"
   ]
  },
  {
   "cell_type": "code",
   "execution_count": 1101,
   "metadata": {},
   "outputs": [
    {
     "name": "stdout",
     "output_type": "stream",
     "text": [
      "[0 1 2 3 4 5 6 7 8 9]\n",
      "[[0 1 2 3 4]\n",
      " [5 6 7 8 9]]\n"
     ]
    }
   ],
   "source": [
    "v1 = np.arange(10)\n",
    "print(v1)\n",
    "\n",
    "v1 = np.arange(10).reshape(2,-1)\n",
    "print(v1)\n",
    "\n",
    "\n"
   ]
  },
  {
   "cell_type": "markdown",
   "metadata": {},
   "source": [
    "### Diagrama de caja y brazos"
   ]
  },
  {
   "cell_type": "markdown",
   "metadata": {},
   "source": [
    "## Estructuras de control"
   ]
  },
  {
   "cell_type": "markdown",
   "metadata": {},
   "source": [
    "#### if-else\n",
    "\n",
    "*Sintaxis:* \n",
    "    \n",
    "    if [condition]:\n",
    "          __execution if true__\n",
    "    else:\n",
    "          __execution if false__"
   ]
  },
  {
   "cell_type": "code",
   "execution_count": 1102,
   "metadata": {},
   "outputs": [
    {
     "name": "stdout",
     "output_type": "stream",
     "text": [
      "El tamaño es mayor o igual a 5\n"
     ]
    }
   ],
   "source": [
    "l1 = [1, 2, 3, 4, 5]\n",
    "long_v1 = len(l1)\n",
    "if long_v1 < 5:\n",
    "    print (\"El tamaño es menor que 5\")\n",
    "else:\n",
    "    print(\"El tamaño es mayor o igual a 5\")\n",
    "\n",
    "\n"
   ]
  },
  {
   "cell_type": "markdown",
   "metadata": {},
   "source": [
    "#### for\n",
    "\n",
    "*Sintaxis:* `Iterable` puede ser una lista o estrctura de datos que permita iterar\n",
    "\n",
    "    for i in [Python Iterable]:\n",
    "        expression(i)"
   ]
  },
  {
   "cell_type": "code",
   "execution_count": 1103,
   "metadata": {},
   "outputs": [
    {
     "name": "stdout",
     "output_type": "stream",
     "text": [
      "Rutina que calcula la suma de los elementos pares de una lista\n",
      "\n",
      "\n",
      "La lista es:\n",
      "[0, 1, 2, 3, 4, 5, 6, 7, 8, 9]\n",
      "\n",
      "\n",
      "La suma es: 20\n"
     ]
    }
   ],
   "source": [
    "print(\"Rutina que calcula la suma de los elementos pares de una lista\")\n",
    "lista=[]\n",
    "for x in range(10):\n",
    "    lista.append(x)\n",
    "\n",
    "print(\"\\n\")\n",
    "print(\"La lista es:\")\n",
    "print(lista)\n",
    "\n",
    "suma=0\n",
    "\n",
    "for x in lista:\n",
    "    if x%2 == 0:\n",
    "        suma += x\n",
    "\n",
    "print(\"\\n\")\n",
    "print(\"La suma es: \" + str(suma))"
   ]
  },
  {
   "cell_type": "markdown",
   "metadata": {},
   "source": [
    "## Funciones"
   ]
  },
  {
   "cell_type": "code",
   "execution_count": 1104,
   "metadata": {},
   "outputs": [],
   "source": [
    "#pending"
   ]
  },
  {
   "cell_type": "markdown",
   "metadata": {},
   "source": [
    "### Diccionarios"
   ]
  },
  {
   "cell_type": "markdown",
   "metadata": {},
   "source": [
    "- Útiles para unir keys a valores de manera eficiente\n",
    "- Se indican con `{}`\n"
   ]
  },
  {
   "cell_type": "code",
   "execution_count": 1105,
   "metadata": {},
   "outputs": [
    {
     "name": "stdout",
     "output_type": "stream",
     "text": [
      "medio\n"
     ]
    }
   ],
   "source": [
    "nombres = ['maria', 'pepe', 'tina', 'alberto']\n",
    "segmento = ['bajo', 'bajo', 'alto', 'medio']\n",
    "\n",
    "i = nombres.index(\"alberto\")\n",
    "\n",
    "print(segmento[i])"
   ]
  },
  {
   "cell_type": "code",
   "execution_count": 1106,
   "metadata": {},
   "outputs": [
    {
     "name": "stdout",
     "output_type": "stream",
     "text": [
      "Es mejor escribirlo como diccionario: \n",
      "{'maria': 'bajo', 'pepe': 'bajo', 'tina': 'alto', 'alberto': 'medio'}\n"
     ]
    }
   ],
   "source": [
    "print(\"Es mejor escribirlo como diccionario: \")\n",
    "nomina = {\n",
    "   \"maria\":\"bajo\",\n",
    "   \"pepe\":\"bajo\",\n",
    "   \"tina\":\"alto\",\n",
    "   \"alberto\":\"medio\" \n",
    "}\n",
    "print(nomina)"
   ]
  },
  {
   "cell_type": "code",
   "execution_count": 1107,
   "metadata": {},
   "outputs": [
    {
     "name": "stdout",
     "output_type": "stream",
     "text": [
      "Puedo imprimir las llaves: \n",
      "dict_keys(['maria', 'pepe', 'tina', 'alberto'])\n",
      "\n",
      "\n",
      "También puedo imprimir el valor de Maria: \n",
      "bajo\n"
     ]
    }
   ],
   "source": [
    "print(\"Puedo imprimir las llaves: \")\n",
    "print(nomina.keys())\n",
    "\n",
    "print(\"\\n\")\n",
    "print(\"También puedo imprimir el valor de Maria: \")\n",
    "print(nomina[\"maria\"])"
   ]
  },
  {
   "cell_type": "code",
   "execution_count": null,
   "metadata": {},
   "outputs": [],
   "source": []
  },
  {
   "cell_type": "markdown",
   "metadata": {},
   "source": [
    "## Data frames"
   ]
  },
  {
   "cell_type": "markdown",
   "metadata": {},
   "source": [
    "- `Pandas` es un paquete popular para ciencia de datos\n",
    "- Ofrece estructuras de datos orientadas a este fin\n",
    "- Facilita la manipulación y análisis de datos\n",
    "- Fueron hechos sobre la librería de `Numpy`, que guarda los datos en *arrays*\n",
    "- Se crean desde la librería de `Pandas`\n",
    "- Pueden contener lo siguiente:\n",
    "    - Un `ndarray` de Numpy (una o dos dimensiones): puedes agregar índices o nombres de filas y columnas (metadata). Por eso se les llama también \"Numpy arrays diccionariados\"\n",
    "    - Un `Dataframe` de Pandas: son como los dataframes de R, i.e. puedo guardar varios tipos de datos\n",
    "    - Una `serie` de Pandas\n",
    "    - Páneles: contenedores de datos en 3D (esto no lo vimos en R)\n",
    "- Entonces, igual que en R, podemos organizar las estructuras de datos por su  *dimensión* y *contenido*:\n",
    "\n"
   ]
  },
  {
   "cell_type": "markdown",
   "metadata": {},
   "source": [
    "<img src=\"numpyvspandas.png\"  width=\"500\" height=\"300\">"
   ]
  },
  {
   "cell_type": "markdown",
   "metadata": {},
   "source": [
    "- Vamos a importar la librería de Pandas como \"pd\""
   ]
  },
  {
   "cell_type": "markdown",
   "metadata": {},
   "source": [
    "### Creación de dataframes"
   ]
  },
  {
   "cell_type": "markdown",
   "metadata": {},
   "source": [
    "**Opción 1:** Convertir desde otra estructura de datos (listas o Numpy arrays)\n",
    "\n",
    "*Sintaxis:* `pd.DataFrame(data = , index = , columns = )`\n",
    "   - `data`: selecciono los datos\n",
    "   - `index`: selecciono las filas\n",
    "   - `columns`: selecciono las columnas\n",
    "   \n",
    "También podemos conocer la dimensión con `shape()` o con `len()`"
   ]
  },
  {
   "cell_type": "code",
   "execution_count": 1108,
   "metadata": {},
   "outputs": [
    {
     "name": "stdout",
     "output_type": "stream",
     "text": [
      "Imprimo array de Numpy:\n",
      "[['' 'col1' 'col2']\n",
      " ['fila1' '10' '2']\n",
      " ['fila2' '30' '5']\n",
      " ['fila3' '6' '7']]\n",
      "\n",
      "\n",
      "Tipo de dato: <class 'numpy.ndarray'>\n",
      "\n",
      "\n",
      "Imprimo dataframe de Pandas:\n",
      "      col1 col2\n",
      "fila1   10    2\n",
      "fila2   30    5\n",
      "fila3    6    7\n",
      "\n",
      "\n",
      "Tipo de dato: <class 'pandas.core.frame.DataFrame'>\n",
      "\n",
      "\n",
      "La dimensión es: \n",
      "(3, 2)\n",
      "\n",
      "\n",
      "El número de filas es: \n",
      "3\n"
     ]
    }
   ],
   "source": [
    "import pandas as pd\n",
    "ej = np.array([['','col1','col2'],\n",
    "                ['fila1',10,2],\n",
    "                ['fila2',30,5], ['fila3',6,7]])\n",
    "\n",
    "print(\"Imprimo array de Numpy:\")\n",
    "print(ej)\n",
    "\n",
    "print(\"\\n\")\n",
    "print(\"Tipo de dato: \" + str(type(ej)))\n",
    "\n",
    "print(\"\\n\")\n",
    "print(\"Imprimo dataframe de Pandas:\")\n",
    "array_to_df = pd.DataFrame(data = ej[1:,1:],\n",
    "                  index = ej[1:,0],\n",
    "                  columns = ej[0,1:])\n",
    "\n",
    "print(array_to_df)\n",
    "\n",
    "print(\"\\n\")\n",
    "print(\"Tipo de dato: \" + str(type(array_to_df)))\n",
    "\n",
    "print(\"\\n\")\n",
    "print(\"La dimensión es: \")\n",
    "print(array_to_df.shape)\n",
    "\n",
    "print(\"\\n\")\n",
    "print(\"El número de filas es: \")\n",
    "print(len(array_to_df.index))\n"
   ]
  },
  {
   "cell_type": "markdown",
   "metadata": {},
   "source": [
    "Ejemplo de cuando los datos son una lista:"
   ]
  },
  {
   "cell_type": "code",
   "execution_count": 1109,
   "metadata": {},
   "outputs": [
    {
     "name": "stdout",
     "output_type": "stream",
     "text": [
      "   val\n",
      "0   10\n",
      "1   20\n",
      "2   30\n",
      "3   40\n",
      "\n",
      "\n",
      "['val']\n",
      "\n",
      "\n"
     ]
    },
    {
     "data": {
      "text/plain": [
       "['val']"
      ]
     },
     "execution_count": 1109,
     "metadata": {},
     "output_type": "execute_result"
    }
   ],
   "source": [
    "df_ex = pd.DataFrame(data=[10,20,30,40], index=range(0,4), columns=['val'])\n",
    "print(df_ex)\n",
    "\n",
    "print(\"\\n\")\n",
    "\n",
    "#nombres de columnas:\n",
    "print(list(df_ex.columns))\n",
    "\n",
    "print(\"\\n\")\n",
    "\n",
    "#o bien:\n",
    "list(df_ex.columns.values)"
   ]
  },
  {
   "cell_type": "markdown",
   "metadata": {},
   "source": [
    "> **EJERCICIO.** Crea e imprime un *dataframe* de Pandas de tamaño 10 de una variable aleatoria uniforme en (0,10000) y de una variable Poisson con parámetro 5."
   ]
  },
  {
   "cell_type": "code",
   "execution_count": 1110,
   "metadata": {},
   "outputs": [
    {
     "name": "stdout",
     "output_type": "stream",
     "text": [
      "[9375.25762898  317.59989843 6457.76131785 4365.74139727 1982.72806462\n",
      "  778.07636263 7268.37677621 7695.25527077 2893.85083493 8658.89687691]\n",
      "(10,)\n"
     ]
    }
   ],
   "source": [
    "#Solución\n",
    "v1 = np.random.uniform(0, 10000, 10)\n",
    "print(v1)\n",
    "print(v1.shape)\n",
    "v2 = np.random.poisson(5, 10)\n",
    "#print(np.vstack((v1, v2)))\n",
    "#print(np.concatenate((v1, v2)).shape)\n",
    "#df_ex = pd.DataFrame(data=np.column_stack((v1, v2)), index=range(0,9), columns=['id'])\n",
    "#print(df_ex)\n",
    "\n"
   ]
  },
  {
   "cell_type": "markdown",
   "metadata": {},
   "source": [
    "**Opción 2:** Crear desde cero"
   ]
  },
  {
   "cell_type": "code",
   "execution_count": 1111,
   "metadata": {},
   "outputs": [
    {
     "data": {
      "text/plain": [
       "numpy.ndarray"
      ]
     },
     "execution_count": 1111,
     "metadata": {},
     "output_type": "execute_result"
    }
   ],
   "source": [
    "type(np.random.normal(0, 1, 10000))"
   ]
  },
  {
   "cell_type": "code",
   "execution_count": 1112,
   "metadata": {},
   "outputs": [
    {
     "name": "stdout",
     "output_type": "stream",
     "text": [
      "<class 'numpy.ndarray'>\n",
      "[[1 2]\n",
      " [2 3]\n",
      " [3 4]]\n"
     ]
    }
   ],
   "source": [
    "a = np.array((1,2,3))\n",
    "b = np.array((2,3,4))\n",
    "np.hstack((a,b))\n",
    "array([1, 2, 3, 2, 3, 4])\n",
    "a = np.array([[1],[2],[3]])\n",
    "b = np.array([[2],[3],[4]])\n",
    "np.hstack((a,b))\n",
    "print(type(np.hstack((a,b))))\n",
    "print(np.hstack((a,b)))"
   ]
  },
  {
   "cell_type": "code",
   "execution_count": 1113,
   "metadata": {},
   "outputs": [
    {
     "name": "stdout",
     "output_type": "stream",
     "text": [
      "<class 'numpy.ndarray'>\n",
      "[[1 2]\n",
      " [2 3]\n",
      " [3 4]]\n"
     ]
    }
   ],
   "source": [
    "a = np.array((1,2,3))\n",
    "b = np.array((2,3,4))\n",
    "np.column_stack((a,b))\n",
    "print(type(np.column_stack((a,b))))\n",
    "print(np.column_stack((a,b)))"
   ]
  },
  {
   "cell_type": "markdown",
   "metadata": {},
   "source": [
    "- También podemos crear un Dataframe vacío:"
   ]
  },
  {
   "cell_type": "code",
   "execution_count": 1114,
   "metadata": {},
   "outputs": [
    {
     "name": "stdout",
     "output_type": "stream",
     "text": [
      "    A\n",
      "0 NaN\n",
      "1 NaN\n",
      "2 NaN\n",
      "3 NaN\n",
      "4 NaN\n",
      "5 NaN\n",
      "6 NaN\n",
      "7 NaN\n",
      "\n",
      "\n",
      "El tipo de dato es: \n",
      "<class 'float'>\n",
      "\n",
      "\n",
      "Si ahora le queremos dar un tipo distinto al float: \n",
      "   c1\n",
      "0 NaN\n",
      "1 NaN\n",
      "2 NaN\n",
      "3 NaN\n",
      "4 NaN\n",
      "5 NaN\n",
      "6 NaN\n",
      "7 NaN\n",
      "<class 'pandas.core.frame.DataFrame'>\n"
     ]
    }
   ],
   "source": [
    "df = pd.DataFrame(np.nan, index=range(0,8), columns=['A'])\n",
    "print(df)\n",
    "\n",
    "print(\"\\n\")\n",
    "print(\"El tipo de dato es: \")\n",
    "print(type(np.nan))\n",
    "\n",
    "print(\"\\n\")\n",
    "print(\"Si ahora le queremos dar un tipo distinto al float: \")\n",
    "df = pd.DataFrame(index=range(0,8), columns=['c1'], dtype='int')\n",
    "print(df)\n",
    "print(type(df))"
   ]
  },
  {
   "cell_type": "markdown",
   "metadata": {},
   "source": [
    "### Operaciones en dataframes"
   ]
  },
  {
   "cell_type": "markdown",
   "metadata": {},
   "source": [
    "- Parecido a lo que podíamos hacer con el paquete `dplyr` en R\n",
    "- Sintaxis casi igual a los Numpy arrays\n",
    "- Para ver los primeros 5 registros se hace `dataframe.head()`"
   ]
  },
  {
   "cell_type": "code",
   "execution_count": 1115,
   "metadata": {},
   "outputs": [],
   "source": [
    "#### Seleccionar elementos"
   ]
  },
  {
   "cell_type": "code",
   "execution_count": 1116,
   "metadata": {},
   "outputs": [
    {
     "name": "stdout",
     "output_type": "stream",
     "text": [
      "      col1 col2\n",
      "fila1   10    2\n",
      "fila2   30    5\n",
      "fila3    6    7\n",
      "\n",
      "\n",
      "El elemento en la posición (0,0) es: \n",
      "10\n",
      "La primer fila es:\n",
      "col1    10\n",
      "col2     2\n",
      "Name: fila1, dtype: object\n",
      "\n",
      "\n",
      "El elemento en la columna y fila (fila1,col1) es: \n",
      "10\n",
      "La primer fila es:\n",
      "col1    10\n",
      "col2     2\n",
      "Name: fila1, dtype: object\n",
      "\n",
      "\n",
      "Agregamos una columna 3 con el índice: \n",
      "      col1 col2   col3\n",
      "fila1   10    2  fila1\n",
      "fila2   30    5  fila2\n",
      "fila3    6    7  fila3\n",
      "  col1 col2   col3\n",
      "0   10    2  fila1\n",
      "1   30    5  fila2\n",
      "2    6    7  fila3\n"
     ]
    }
   ],
   "source": [
    "print(array_to_df)\n",
    "\n",
    "print(\"\\n\")\n",
    "print(\"El elemento en la posición (0,0) es: \")\n",
    "# Con `iloc[]`\n",
    "print(array_to_df.iloc[0][0])\n",
    "print(\"La primer fila es:\")\n",
    "print(array_to_df.iloc[0])\n",
    "\n",
    "\n",
    "print(\"\\n\")\n",
    "print(\"El elemento en la columna y fila (fila1,col1) es: \")\n",
    "# Con `loc[]`\n",
    "print(array_to_df.loc['fila1']['col1'])\n",
    "print(\"La primer fila es:\")\n",
    "print(array_to_df.loc['fila1'])\n",
    "\n",
    "\n",
    "\n",
    "print(\"\\n\")\n",
    "print(\"Agregamos una columna 3 con el índice: \")\n",
    "array_to_df['col3'] = array_to_df.index\n",
    "print(array_to_df)\n",
    "\n",
    "df_reset = array_to_df.reset_index(drop=True)\n",
    "\n",
    "print(df_reset)"
   ]
  },
  {
   "cell_type": "markdown",
   "metadata": {},
   "source": [
    "#### Agregar filas y columnas\n",
    "- `df.loc[nombre_fila]`\n",
    "- `df.loc[, nombre_columna]`"
   ]
  },
  {
   "cell_type": "code",
   "execution_count": 1117,
   "metadata": {},
   "outputs": [
    {
     "name": "stdout",
     "output_type": "stream",
     "text": [
      "Agregando columnas:\n",
      "      col1 col2   col3\n",
      "fila1   10    2  fila1\n",
      "fila2   30    5  fila2\n",
      "fila3    6    7  fila3\n",
      "\n",
      "\n",
      "      col1 col2   col3 col5\n",
      "fila1   10    2  fila1    5\n",
      "fila2   30    5  fila2    6\n",
      "fila3    6    7  fila3    7\n",
      "\n",
      "\n",
      "      col1 col2   col3 col5   6\n",
      "fila1   10    2  fila1    5   9\n",
      "fila2   30    5  fila2    6  10\n",
      "fila3    6    7  fila3    7  11\n",
      "\n",
      "\n",
      "Agregando filas:\n",
      "      col1 col2   col3 col5   6\n",
      "fila1   10    2  fila1    5   9\n",
      "fila2   30    5  fila2    6  10\n",
      "fila3    6    7  fila3    7  11\n",
      "4       10   11     12   13  14\n",
      "\n",
      "\n",
      "      col1 col2   col3 col5   6\n",
      "fila1   10    2  fila1    5   9\n",
      "fila2   30    5  fila2    6  10\n",
      "fila3    6    7  fila3    7  11\n",
      "4       10   11     12   13  14\n",
      "fila5   10   11     12   13  14\n"
     ]
    }
   ],
   "source": [
    "print(\"Agregando columnas:\")\n",
    "print(array_to_df)\n",
    "print(\"\\n\")\n",
    "array_to_df.loc[:, \"col5\"] = pd.Series(['5', '6', '7'], index=array_to_df.index)\n",
    "print(array_to_df)\n",
    "\n",
    "print(\"\\n\")\n",
    "array_to_df.loc[:, 6] = pd.Series(['9', '10', '11'], index=array_to_df.index)\n",
    "print(array_to_df)\n",
    "\n",
    "print(\"\\n\")\n",
    "print(\"Agregando filas:\")\n",
    "array_to_df.loc[4] = [10, 11, 12, 13, 14]\n",
    "print(array_to_df)\n",
    "print(\"\\n\")\n",
    "array_to_df.loc[\"fila5\"] = [10, 11, 12, 13, 14]\n",
    "print(array_to_df)"
   ]
  },
  {
   "cell_type": "markdown",
   "metadata": {},
   "source": [
    "#### Eliminar filas o columnas, cambiar nombres de índices\n",
    "- Eliminar columnas/filas: `df.drop('column/row_name', axis=, inplace=)`\n",
    "- `axis` me dice si quito filas o columnas\n",
    "- `inplace=True` me elimina la columna sin necesidad de reasignar el DataFrame\n",
    "- Cambiar nombres de índices: `df.rename(columns=newcols, inplace=True)`\n"
   ]
  },
  {
   "cell_type": "code",
   "execution_count": 1118,
   "metadata": {},
   "outputs": [
    {
     "name": "stdout",
     "output_type": "stream",
     "text": [
      "      col1 col2   col3 col5   6\n",
      "fila1   10    2  fila1    5   9\n",
      "fila2   30    5  fila2    6  10\n",
      "fila3    6    7  fila3    7  11\n",
      "4       10   11     12   13  14\n",
      "fila5   10   11     12   13  14\n",
      "\n",
      "\n",
      "Elimino primer columna\n",
      "      col2   col3 col5   6\n",
      "fila1    2  fila1    5   9\n",
      "fila2    5  fila2    6  10\n",
      "fila3    7  fila3    7  11\n",
      "4       11     12   13  14\n",
      "fila5   11     12   13  14\n",
      "\n",
      "\n",
      "Elimino primer fila\n",
      "      col2   col3 col5   6\n",
      "fila2    5  fila2    6  10\n",
      "fila3    7  fila3    7  11\n",
      "4       11     12   13  14\n",
      "fila5   11     12   13  14\n",
      "\n",
      "\n",
      "Cambio nombres de filas\n",
      "      var1   var2 var3 var4\n",
      "fila2    5  fila2    6   10\n",
      "fila3    7  fila3    7   11\n",
      "4       11     12   13   14\n",
      "fila5   11     12   13   14\n"
     ]
    }
   ],
   "source": [
    "print(array_to_df)\n",
    "\n",
    "print(\"\\n\")\n",
    "print(\"Elimino primer columna\")\n",
    "array_to_df.drop(\"col1\", axis=1, inplace=True)\n",
    "print(array_to_df)\n",
    "\n",
    "print(\"\\n\")\n",
    "print(\"Elimino primer fila\")\n",
    "array_to_df.drop(\"fila1\", axis=0, inplace=True)\n",
    "print(array_to_df)\n",
    "\n",
    "print(\"\\n\")\n",
    "print(\"Cambio nombres de filas\")\n",
    "nuevcols=newcols = { \n",
    "    'col2': 'var1', \n",
    "    'col3': 'var2',\n",
    "    'col5': 'var3',\n",
    "    6: 'var4'\n",
    "}\n",
    "array_to_df.rename(columns=nuevcols, inplace=True)\n",
    "print(array_to_df)"
   ]
  },
  {
   "cell_type": "markdown",
   "metadata": {},
   "source": [
    "#### Recodificar data\n",
    "- Reemplazar una data por otra: `replace([to_replace],[value])`\n",
    "- Puedo usar el parámetro `dict` para decirle de una vez, por columna qué reemplazos debe hacer\n",
    "- Ver [documentación](http://pandas.pydata.org/pandas-docs/stable/generated/pandas.DataFrame.replace.html#pandas.DataFrame.replace) para ver parámetros y opciones\n",
    "- Cambio los \"fila\" por valores: `"
   ]
  },
  {
   "cell_type": "code",
   "execution_count": 1119,
   "metadata": {},
   "outputs": [
    {
     "data": {
      "text/html": [
       "<div>\n",
       "<style scoped>\n",
       "    .dataframe tbody tr th:only-of-type {\n",
       "        vertical-align: middle;\n",
       "    }\n",
       "\n",
       "    .dataframe tbody tr th {\n",
       "        vertical-align: top;\n",
       "    }\n",
       "\n",
       "    .dataframe thead th {\n",
       "        text-align: right;\n",
       "    }\n",
       "</style>\n",
       "<table border=\"1\" class=\"dataframe\">\n",
       "  <thead>\n",
       "    <tr style=\"text-align: right;\">\n",
       "      <th></th>\n",
       "      <th>var1</th>\n",
       "      <th>var2</th>\n",
       "      <th>var3</th>\n",
       "      <th>var4</th>\n",
       "    </tr>\n",
       "  </thead>\n",
       "  <tbody>\n",
       "    <tr>\n",
       "      <th>fila2</th>\n",
       "      <td>5</td>\n",
       "      <td>2</td>\n",
       "      <td>6</td>\n",
       "      <td>10</td>\n",
       "    </tr>\n",
       "    <tr>\n",
       "      <th>fila3</th>\n",
       "      <td>7</td>\n",
       "      <td>3</td>\n",
       "      <td>7</td>\n",
       "      <td>11</td>\n",
       "    </tr>\n",
       "    <tr>\n",
       "      <th>4</th>\n",
       "      <td>11</td>\n",
       "      <td>12</td>\n",
       "      <td>13</td>\n",
       "      <td>14</td>\n",
       "    </tr>\n",
       "    <tr>\n",
       "      <th>fila5</th>\n",
       "      <td>11</td>\n",
       "      <td>12</td>\n",
       "      <td>13</td>\n",
       "      <td>14</td>\n",
       "    </tr>\n",
       "  </tbody>\n",
       "</table>\n",
       "</div>"
      ],
      "text/plain": [
       "      var1  var2 var3 var4\n",
       "fila2    5     2    6   10\n",
       "fila3    7     3    7   11\n",
       "4       11    12   13   14\n",
       "fila5   11    12   13   14"
      ]
     },
     "execution_count": 1119,
     "metadata": {},
     "output_type": "execute_result"
    }
   ],
   "source": [
    "array_to_df.replace(['fila2', 'fila3'], [2,3])"
   ]
  },
  {
   "cell_type": "markdown",
   "metadata": {},
   "source": [
    "#### Pivot tables"
   ]
  },
  {
   "cell_type": "code",
   "execution_count": 1120,
   "metadata": {},
   "outputs": [],
   "source": [
    "#pending"
   ]
  },
  {
   "cell_type": "markdown",
   "metadata": {},
   "source": [
    "#### Tablas cruzadas\n",
    "\n",
    "- Sirven para visualizar la relación entre dos variables categóricas\n",
    "- Parte del análisis exploratorio de datos, cuando sospechamos que dos variables categóricas están relacionadas\n",
    "- Se hacen con el comando `pd.crosstab(df[\"Var1\"],df[\"Var2\"],margins=True)`"
   ]
  },
  {
   "cell_type": "markdown",
   "metadata": {},
   "source": [
    "#### Aplicar función a filas o columnas\n",
    "\n",
    "- `dataframe.apply(funcion, axis=0/1)` me permite aplicar una función (predefinida o hecha por mí) a los elementos de mi dataframe, ya sea por fila o columna"
   ]
  },
  {
   "cell_type": "code",
   "execution_count": 1121,
   "metadata": {},
   "outputs": [
    {
     "data": {
      "text/html": [
       "<div>\n",
       "<style scoped>\n",
       "    .dataframe tbody tr th:only-of-type {\n",
       "        vertical-align: middle;\n",
       "    }\n",
       "\n",
       "    .dataframe tbody tr th {\n",
       "        vertical-align: top;\n",
       "    }\n",
       "\n",
       "    .dataframe thead th {\n",
       "        text-align: right;\n",
       "    }\n",
       "</style>\n",
       "<table border=\"1\" class=\"dataframe\">\n",
       "  <thead>\n",
       "    <tr style=\"text-align: right;\">\n",
       "      <th></th>\n",
       "      <th>A</th>\n",
       "      <th>B</th>\n",
       "      <th>C</th>\n",
       "    </tr>\n",
       "  </thead>\n",
       "  <tbody>\n",
       "    <tr>\n",
       "      <th>count</th>\n",
       "      <td>4.000000</td>\n",
       "      <td>4.000000</td>\n",
       "      <td>4.000000</td>\n",
       "    </tr>\n",
       "    <tr>\n",
       "      <th>mean</th>\n",
       "      <td>5.500000</td>\n",
       "      <td>6.500000</td>\n",
       "      <td>7.500000</td>\n",
       "    </tr>\n",
       "    <tr>\n",
       "      <th>std</th>\n",
       "      <td>3.872983</td>\n",
       "      <td>3.872983</td>\n",
       "      <td>3.872983</td>\n",
       "    </tr>\n",
       "    <tr>\n",
       "      <th>min</th>\n",
       "      <td>1.000000</td>\n",
       "      <td>2.000000</td>\n",
       "      <td>3.000000</td>\n",
       "    </tr>\n",
       "    <tr>\n",
       "      <th>25%</th>\n",
       "      <td>3.250000</td>\n",
       "      <td>4.250000</td>\n",
       "      <td>5.250000</td>\n",
       "    </tr>\n",
       "    <tr>\n",
       "      <th>50%</th>\n",
       "      <td>5.500000</td>\n",
       "      <td>6.500000</td>\n",
       "      <td>7.500000</td>\n",
       "    </tr>\n",
       "    <tr>\n",
       "      <th>75%</th>\n",
       "      <td>7.750000</td>\n",
       "      <td>8.750000</td>\n",
       "      <td>9.750000</td>\n",
       "    </tr>\n",
       "    <tr>\n",
       "      <th>max</th>\n",
       "      <td>10.000000</td>\n",
       "      <td>11.000000</td>\n",
       "      <td>12.000000</td>\n",
       "    </tr>\n",
       "  </tbody>\n",
       "</table>\n",
       "</div>"
      ],
      "text/plain": [
       "               A          B          C\n",
       "count   4.000000   4.000000   4.000000\n",
       "mean    5.500000   6.500000   7.500000\n",
       "std     3.872983   3.872983   3.872983\n",
       "min     1.000000   2.000000   3.000000\n",
       "25%     3.250000   4.250000   5.250000\n",
       "50%     5.500000   6.500000   7.500000\n",
       "75%     7.750000   8.750000   9.750000\n",
       "max    10.000000  11.000000  12.000000"
      ]
     },
     "execution_count": 1121,
     "metadata": {},
     "output_type": "execute_result"
    }
   ],
   "source": [
    "df2 = pd.DataFrame(data=np.array([[1, 2, 3], [4, 5, 6], [7, 8, 9], [10, 11, 12]]), columns=['A', 'B', 'C'])\n",
    "df2.describe()"
   ]
  },
  {
   "cell_type": "markdown",
   "metadata": {},
   "source": [
    "#### Iterar el Dataframe"
   ]
  },
  {
   "cell_type": "code",
   "execution_count": 1122,
   "metadata": {},
   "outputs": [
    {
     "name": "stdout",
     "output_type": "stream",
     "text": [
      "    A   B   C\n",
      "0   1   2   3\n",
      "1   4   5   6\n",
      "2   7   8   9\n",
      "3  10  11  12\n",
      "\n",
      "\n",
      "Recorro dataframe: \n",
      "1 2\n",
      "4 5\n",
      "7 8\n",
      "10 11\n"
     ]
    }
   ],
   "source": [
    "df2 = pd.DataFrame(data=np.array([[1, 2, 3], [4, 5, 6], [7, 8, 9], [10, 11, 12]]), columns=['A', 'B', 'C'])\n",
    "print(df2)\n",
    "\n",
    "print(\"\\n\")\n",
    "print(\"Recorro dataframe: \")\n",
    "\n",
    "for index, row in df2.iterrows() :\n",
    "    print(row['A'], row['B'])"
   ]
  },
  {
   "cell_type": "markdown",
   "metadata": {},
   "source": [
    "#### Ordenar el dataframe\n",
    "- Muy parecido a R\n",
    "- *Sintaxis:* df.sort_values(['var1','var2'], ascending=False)"
   ]
  },
  {
   "cell_type": "code",
   "execution_count": 1123,
   "metadata": {},
   "outputs": [
    {
     "name": "stdout",
     "output_type": "stream",
     "text": [
      "Creamos muestra de normal y el dataframe:\n",
      "       valor\n",
      "0 -28.290424\n",
      "1  40.480902\n",
      "2  27.540190\n",
      "3  12.882955\n",
      "4  -8.871842\n",
      "5  33.813642\n",
      "6   2.604399\n",
      "7 -27.146981\n",
      "8  42.911511\n",
      "9  16.375296\n",
      "\n",
      "\n",
      "Ordenamos:\n",
      "        valor\n",
      "12  44.664990\n",
      "8   42.911511\n",
      "1   40.480902\n",
      "22  36.520864\n",
      "29  34.519581\n",
      "5   33.813642\n",
      "39  30.117831\n",
      "19  29.836659\n",
      "2   27.540190\n",
      "15  26.446759\n"
     ]
    }
   ],
   "source": [
    "print(\"Creamos muestra de normal y el dataframe:\")\n",
    "muestra_norm = np.random.normal(10, 20, 50)\n",
    "df_norm = pd.DataFrame(data = muestra_norm, index = range(0, 50), columns = [\"valor\"])\n",
    "print(df_norm.head(10))\n",
    "\n",
    "print(\"\\n\")\n",
    "print(\"Ordenamos:\")\n",
    "muestra_sorted = df_norm.sort_values(['valor'], ascending=False)\n",
    "print(muestra_sorted.head(10))\n",
    "\n"
   ]
  },
  {
   "cell_type": "markdown",
   "metadata": {},
   "source": [
    "### Visualización\n",
    "\n",
    "- A través de `Pandas`, es posible hacer gráficos de un dataframe de una manera más sencilla que usando directamente `matplotlib`\n"
   ]
  },
  {
   "cell_type": "code",
   "execution_count": 1124,
   "metadata": {},
   "outputs": [
    {
     "name": "stdout",
     "output_type": "stream",
     "text": [
      "(100,)\n",
      "\n",
      "\n",
      "Creamos dataframe de un array\n",
      "        valor\n",
      "0   13.131475\n",
      "1    0.183312\n",
      "2    0.483189\n",
      "3    0.591079\n",
      "4    1.251853\n",
      "5    5.350064\n",
      "6   21.785412\n",
      "7    0.144574\n",
      "8    7.983466\n",
      "9    9.546484\n",
      "10  17.871205\n",
      "11   8.030864\n",
      "12   0.437816\n",
      "13   4.087967\n",
      "14   5.297356\n",
      "15  30.311906\n",
      "16   3.607774\n",
      "17  15.316628\n",
      "18   6.514369\n",
      "19   0.095726\n",
      "20   1.974922\n",
      "21   1.580622\n",
      "22   1.728113\n",
      "23   3.407688\n",
      "24   1.759023\n",
      "25   4.288673\n",
      "26   3.272511\n",
      "27   5.586503\n",
      "28   3.260855\n",
      "29   4.384346\n",
      "..        ...\n",
      "70   0.527600\n",
      "71  11.810387\n",
      "72   4.409659\n",
      "73   1.494136\n",
      "74   9.102925\n",
      "75   1.414656\n",
      "76   3.223984\n",
      "77   8.536979\n",
      "78   4.383226\n",
      "79   1.781914\n",
      "80   5.516263\n",
      "81   0.151704\n",
      "82   3.226118\n",
      "83   3.179867\n",
      "84   2.960241\n",
      "85   4.938062\n",
      "86  11.062209\n",
      "87   0.293274\n",
      "88   1.487218\n",
      "89   4.949816\n",
      "90   4.263214\n",
      "91   8.367219\n",
      "92   2.256096\n",
      "93   0.029670\n",
      "94  11.533873\n",
      "95   4.757300\n",
      "96   6.444584\n",
      "97   3.294335\n",
      "98   8.652921\n",
      "99  20.943066\n",
      "\n",
      "[100 rows x 1 columns]\n",
      "\n",
      "\n",
      "Graficamos\n"
     ]
    },
    {
     "data": {
      "text/plain": [
       "<matplotlib.axes._subplots.AxesSubplot at 0x7f8b8df00710>"
      ]
     },
     "execution_count": 1124,
     "metadata": {},
     "output_type": "execute_result"
    },
    {
     "data": {
      "image/png": "[encoded data removed]",
      "text/plain": [
       "<Figure size 432x288 with 1 Axes>"
      ]
     },
     "metadata": {
      "needs_background": "light"
     },
     "output_type": "display_data"
    }
   ],
   "source": [
    "muestra_exp = np.random.exponential(5, 100)\n",
    "print(muestra_exp.shape)\n",
    "\n",
    "print(\"\\n\")\n",
    "print(\"Creamos dataframe de un array\")\n",
    "mexp = pd.DataFrame(data = muestra_exp, index = range(0, 100), columns = [\"valor\"])\n",
    "print(mexp)\n",
    "\n",
    "print(\"\\n\")\n",
    "print(\"Graficamos\")\n",
    "mexp['valor'].hist(bins=10)"
   ]
  },
  {
   "cell_type": "code",
   "execution_count": 1125,
   "metadata": {},
   "outputs": [
    {
     "name": "stdout",
     "output_type": "stream",
     "text": [
      "\n",
      "\n",
      "Ahora grafiquemos el diagrama de caja y brazos: \n"
     ]
    },
    {
     "data": {
      "text/plain": [
       "<matplotlib.axes._subplots.AxesSubplot at 0x7f8b8de57780>"
      ]
     },
     "execution_count": 1125,
     "metadata": {},
     "output_type": "execute_result"
    },
    {
     "data": {
      "image/png": "[encoded data removed]",
      "text/plain": [
       "<Figure size 432x288 with 1 Axes>"
      ]
     },
     "metadata": {
      "needs_background": "light"
     },
     "output_type": "display_data"
    }
   ],
   "source": [
    "print(\"\\n\")\n",
    "print(\"Ahora grafiquemos el diagrama de caja y brazos: \")\n",
    "mexp.boxplot(column='valor')"
   ]
  },
  {
   "cell_type": "markdown",
   "metadata": {},
   "source": [
    "### Algo de estadística en dataframes"
   ]
  },
  {
   "cell_type": "markdown",
   "metadata": {},
   "source": [
    "#### Descriptivos básicos\n",
    "-  `dataframe.describe()` me da el número de observaciones, la media, la desviación estándar, el mínimo, el máximo y los cuartiles\n",
    "- Tabla comparativa vs R:\n",
    "\n",
    "\n",
    "| R               | Pandas           | \n",
    "| ----------------------- |:------------------------------------ | \n",
    "| summary(df)     | df.describe()    |\n",
    "| head(df)        | df.head()        |\n",
    "| dim(df)         | df.shape()       |\n",
    "| str()           |df.dtypes / df.info()    |         "
   ]
  },
  {
   "cell_type": "markdown",
   "metadata": {},
   "source": [
    "#### Manejo de NA's\n",
    "- `isnull()`  es una función booleana que checa si una observación es nula\n",
    "- Uso: `df['nombre_col'].isnull().sum()` me dice cuántos valores nulos tengo en una columna\n",
    "- Vimos que en general es complicado manejar los NAs\n",
    "- Vimos que a menos que los NAs representen una cantidad considerable, los vamos a eliminar\n"
   ]
  },
  {
   "cell_type": "code",
   "execution_count": 1126,
   "metadata": {},
   "outputs": [
    {
     "name": "stdout",
     "output_type": "stream",
     "text": [
      "Cuento cuántos Nas tengo: \n",
      "10\n",
      "\n",
      "\n",
      "Para eficientarlo, ahora hagamos una función que haga eso\n",
      "Número de Nas por fila: \n",
      "Nas por fila:\n",
      "0    1\n",
      "1    1\n",
      "2    1\n",
      "3    1\n",
      "4    1\n",
      "5    1\n",
      "6    1\n",
      "7    1\n",
      "8    1\n",
      "9    1\n",
      "dtype: int64\n",
      "\n",
      "\n",
      "Número de Nas por columna: \n",
      "A    10\n",
      "dtype: int64\n"
     ]
    }
   ],
   "source": [
    "print(\"Cuento cuántos Nas tengo: \")\n",
    "df3 = pd.DataFrame(np.nan, index=range(0,10), columns=['A'])\n",
    "n_nas = df3['A'].isnull().sum()\n",
    "print(n_nas)\n",
    "\n",
    "print(\"\\n\")\n",
    "print(\"Para eficientarlo, ahora hagamos una función que haga eso\")\n",
    "def num_nulos(x):\n",
    "  return x.isnull().sum()\n",
    "\n",
    "print(\"Número de Nas por fila: \")\n",
    "print(\"Nas por fila:\")\n",
    "print(df3.apply(num_nulos, axis=1))\n",
    "\n",
    "print(\"\\n\")\n",
    "print(\"Número de Nas por columna: \")\n",
    "print(df3.apply(num_nulos, axis=0))"
   ]
  },
  {
   "cell_type": "markdown",
   "metadata": {},
   "source": [
    "- Si no los vamos a eliminar, podemos sustituir los cuantitativos con la *media*, la *mediana*, la *moda* usando `fillna`:\n",
    "    - Moda: `from scipy.stats import mode` -> `mode(df['Numvar'])\n",
    "    - Comando completo: `df['Numvar'].fillna(mode(data['Numvar']).mode[0], inplace=True)"
   ]
  },
  {
   "cell_type": "code",
   "execution_count": 1127,
   "metadata": {},
   "outputs": [
    {
     "name": "stdout",
     "output_type": "stream",
     "text": [
      "Sustituyo Nas con otro valor: \n",
      "     A\n",
      "0  0.0\n",
      "1  0.0\n",
      "2  0.0\n",
      "3  0.0\n",
      "4  0.0\n",
      "5  0.0\n",
      "6  0.0\n",
      "7  0.0\n",
      "8  0.0\n",
      "9  0.0\n",
      "\n",
      "\n",
      "Verifico que ya no estén. La suma de nulos es: \n",
      "A    0\n",
      "dtype: int64\n"
     ]
    }
   ],
   "source": [
    "print(\"Sustituyo Nas con otro valor: \")\n",
    "df3['A'].fillna(0, inplace=True)\n",
    "print(df3)\n",
    "\n",
    "print(\"\\n\")\n",
    "print(\"Verifico que ya no estén. La suma de nulos es: \")\n",
    "print(df3.apply(num_nulos, axis=0))"
   ]
  },
  {
   "cell_type": "markdown",
   "metadata": {},
   "source": [
    "### Importación de datos\n",
    "- Esta vez sólo veremos `csv`, la siguiente clase vemos más\n",
    "- *Sintaxis:* `pd.read_csv(\"file.csv\", index_col=)`\n"
   ]
  },
  {
   "cell_type": "code",
   "execution_count": 1128,
   "metadata": {},
   "outputs": [
    {
     "name": "stdout",
     "output_type": "stream",
     "text": [
      "\n",
      "\n"
     ]
    }
   ],
   "source": [
    "#Como csv\n",
    "import pandas as pd\n",
    "df2.to_csv('midataframe.csv', sep='\\t', encoding='utf-8', header=False)\n",
    "\n",
    "print(\"\\n\")\n",
    "#Como excel\n",
    "escritura = pd.ExcelWriter('midataframe.xlsx')\n",
    "df.to_excel(escritura, 'DataFrame')\n",
    "escritura.save()"
   ]
  },
  {
   "cell_type": "markdown",
   "metadata": {},
   "source": [
    "#### Escribir dataframe en un archivo\n",
    "\n",
    "- Como [csv](http://pandas.pydata.org/pandas-docs/stable/generated/pandas.DataFrame.to_csv.html)\n",
    "\n",
    "- Como [excel](http://pandas.pydata.org/pandas-docs/stable/generated/pandas.DataFrame.to_excel.html)"
   ]
  },
  {
   "cell_type": "markdown",
   "metadata": {},
   "source": [
    "## EJERCICIO para entregar (1era parte)\n",
    "\n",
    "1. Importa con la librería de pandas, como csv, los datos que vienen aquí: \n",
    "\n",
    "    - https://s3-ap-southeast-1.amazonaws.com/av-datahack-datacamp/train.csv y llámalo train.set\n",
    "    \n",
    "    - https://s3-ap-southeast-1.amazonaws.com/av-datahack-datacamp/test.csv y llámalo test.set\n",
    "\n",
    "2. Revisa [este sitio](https://datahack.analyticsvidhya.com/contest/practice-problem-loan-prediction-iii/) para que entiendas el reto.Busca la documentación que viene sobre el dataset para llenar la misma tabla que llenaste para R, en donde venga la descripción, el tipo de variable, los rangos.\n",
    "    \n",
    "3. ¿Cuántas observaciones se tienen en cada dataset? ¿Cuántas columnas (puedes usar `dataframe.columns`)? ¿Cuáles son los primeros 5 registros?\n",
    "\n",
    "4. Observa cuántos Nas tienes por columna y por fila (usa la función que vimos para hacerlo para todas las columnas/filas de una vez). Elimina las filas en donde haya valores nulos.\n",
    "\n",
    "5. Recodifica a 0-1 las variables categóricas que estén siendo tratadas como strings. Usa la función `replace` que vimos, con un diccionario para hacer esto.\n",
    "\n",
    "6. Da un resumen de la media, la mediana, desviación estándar, mínimo, máximo de las variables. Adicionalmente usa `df[col_name].value_counts()` para saber cuántas observaciones se tienen para las variables categóricas.\n",
    "\n",
    "7. Para las variables categóricas, usa una `crosstab` para saber si se les da más créditos a las mujeres que a los hombres.  Usa otra `crosstab` para saber si el hecho de tener historial crediticio hace que sea más fácil que te aprueben un crédito. ¿Cuáles son tus conclusiones?\n",
    "    **BONUS:** Investiga cómo poner porcentajes en estas tabla en vez de números.\n",
    "    \n",
    "8. Haz un histograma para el ingreso de la persona y otro para la cantidad prestada. ¿Qué observas?\n",
    "\n",
    "9. Haz un boxplot para la cantidad del préstamo según el historial crediticio de la persona. ¿Hay diferencias en la cantidad prestada dependiendo si tiene historial o no? Repite el mismo boxplot pero ahora según el sexo. ¿Hay diferencias?\n",
    "\n"
   ]
  },
  {
   "cell_type": "code",
   "execution_count": null,
   "metadata": {},
   "outputs": [],
   "source": []
  }
 ],
 "metadata": {
  "kernelspec": {
   "display_name": "Python 3",
   "language": "python",
   "name": "python3"
  },
  "language_info": {
   "codemirror_mode": {
    "name": "ipython",
    "version": 3
   },
   "file_extension": ".py",
   "mimetype": "text/x-python",
   "name": "python",
   "nbconvert_exporter": "python",
   "pygments_lexer": "ipython3",
   "version": "3.7.0"
  }
 },
 "nbformat": 4,
 "nbformat_minor": 2
}
